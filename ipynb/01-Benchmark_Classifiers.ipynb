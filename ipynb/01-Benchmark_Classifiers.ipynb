{
 "cells": [
  {
   "cell_type": "markdown",
   "metadata": {},
   "source": [
    "## Feed Unprocessed Data into Classifiers, Score, and Measure Accuracy"
   ]
  },
  {
   "cell_type": "code",
   "execution_count": 80,
   "metadata": {
    "collapsed": true
   },
   "outputs": [],
   "source": [
    "import pandas as pd, numpy as np\n",
    "import matplotlib.pyplot as plt, seaborn as sns\n",
    "%matplotlib inline"
   ]
  },
  {
   "cell_type": "code",
   "execution_count": 62,
   "metadata": {
    "collapsed": true
   },
   "outputs": [],
   "source": [
    "from sklearn.preprocessing import StandardScaler, MinMaxScaler\n",
    "\n",
    "from sklearn.linear_model import LogisticRegression\n",
    "from sklearn.neighbors import KNeighborsClassifier\n",
    "from sklearn.tree import DecisionTreeClassifier\n",
    "from sklearn.svm import SVC \n",
    "\n",
    "from sklearn.pipeline import Pipeline\n",
    "from sklearn.model_selection import train_test_split, GridSearchCV\n"
   ]
  },
  {
   "cell_type": "markdown",
   "metadata": {},
   "source": [
    "### Load the Data from Pickled DataFrames"
   ]
  },
  {
   "cell_type": "code",
   "execution_count": 63,
   "metadata": {
    "collapsed": true
   },
   "outputs": [],
   "source": [
    "cook_sample = pd.read_pickle('../assets/pickled_samples/cook_sample.p')\n",
    "madelon_train10 = pd.read_pickle('../assets/pickled_samples/madelon_train_10.p')\n",
    "madelon_train_label10 = pd.read_pickle('../assets/pickled_samples/madelon_train_label10.p')"
   ]
  },
  {
   "cell_type": "markdown",
   "metadata": {},
   "source": [
    "**Madelon:** It's not necessary to load in the test set since that's the hold out data to test the classification model's accuracy. Train/test/split on the training data. \n"
   ]
  },
  {
   "cell_type": "markdown",
   "metadata": {},
   "source": [
    "### Run the Data through the Classifiers and obtain Train & Test scores"
   ]
  },
  {
   "cell_type": "markdown",
   "metadata": {},
   "source": [
    "#### Madelon Dataset"
   ]
  },
  {
   "cell_type": "code",
   "execution_count": 64,
   "metadata": {},
   "outputs": [
    {
     "data": {
      "text/html": [
       "<div>\n",
       "<table border=\"1\" class=\"dataframe\">\n",
       "  <thead>\n",
       "    <tr style=\"text-align: right;\">\n",
       "      <th></th>\n",
       "      <th>0</th>\n",
       "      <th>1</th>\n",
       "      <th>2</th>\n",
       "      <th>3</th>\n",
       "      <th>4</th>\n",
       "      <th>5</th>\n",
       "      <th>6</th>\n",
       "      <th>7</th>\n",
       "      <th>8</th>\n",
       "      <th>9</th>\n",
       "      <th>...</th>\n",
       "      <th>490</th>\n",
       "      <th>491</th>\n",
       "      <th>492</th>\n",
       "      <th>493</th>\n",
       "      <th>494</th>\n",
       "      <th>495</th>\n",
       "      <th>496</th>\n",
       "      <th>497</th>\n",
       "      <th>498</th>\n",
       "      <th>499</th>\n",
       "    </tr>\n",
       "  </thead>\n",
       "  <tbody>\n",
       "    <tr>\n",
       "      <th>388</th>\n",
       "      <td>477</td>\n",
       "      <td>466</td>\n",
       "      <td>531</td>\n",
       "      <td>486</td>\n",
       "      <td>459</td>\n",
       "      <td>484</td>\n",
       "      <td>506</td>\n",
       "      <td>477</td>\n",
       "      <td>491</td>\n",
       "      <td>494</td>\n",
       "      <td>...</td>\n",
       "      <td>454</td>\n",
       "      <td>476</td>\n",
       "      <td>490</td>\n",
       "      <td>410</td>\n",
       "      <td>533</td>\n",
       "      <td>498</td>\n",
       "      <td>477</td>\n",
       "      <td>481</td>\n",
       "      <td>524</td>\n",
       "      <td>483</td>\n",
       "    </tr>\n",
       "    <tr>\n",
       "      <th>414</th>\n",
       "      <td>483</td>\n",
       "      <td>503</td>\n",
       "      <td>549</td>\n",
       "      <td>485</td>\n",
       "      <td>524</td>\n",
       "      <td>487</td>\n",
       "      <td>434</td>\n",
       "      <td>479</td>\n",
       "      <td>497</td>\n",
       "      <td>470</td>\n",
       "      <td>...</td>\n",
       "      <td>481</td>\n",
       "      <td>481</td>\n",
       "      <td>493</td>\n",
       "      <td>685</td>\n",
       "      <td>502</td>\n",
       "      <td>447</td>\n",
       "      <td>484</td>\n",
       "      <td>473</td>\n",
       "      <td>527</td>\n",
       "      <td>509</td>\n",
       "    </tr>\n",
       "    <tr>\n",
       "      <th>710</th>\n",
       "      <td>479</td>\n",
       "      <td>489</td>\n",
       "      <td>473</td>\n",
       "      <td>477</td>\n",
       "      <td>483</td>\n",
       "      <td>473</td>\n",
       "      <td>404</td>\n",
       "      <td>474</td>\n",
       "      <td>493</td>\n",
       "      <td>478</td>\n",
       "      <td>...</td>\n",
       "      <td>485</td>\n",
       "      <td>483</td>\n",
       "      <td>498</td>\n",
       "      <td>326</td>\n",
       "      <td>475</td>\n",
       "      <td>507</td>\n",
       "      <td>490</td>\n",
       "      <td>474</td>\n",
       "      <td>504</td>\n",
       "      <td>467</td>\n",
       "    </tr>\n",
       "    <tr>\n",
       "      <th>1165</th>\n",
       "      <td>483</td>\n",
       "      <td>491</td>\n",
       "      <td>471</td>\n",
       "      <td>485</td>\n",
       "      <td>494</td>\n",
       "      <td>474</td>\n",
       "      <td>490</td>\n",
       "      <td>477</td>\n",
       "      <td>470</td>\n",
       "      <td>479</td>\n",
       "      <td>...</td>\n",
       "      <td>493</td>\n",
       "      <td>476</td>\n",
       "      <td>464</td>\n",
       "      <td>281</td>\n",
       "      <td>527</td>\n",
       "      <td>487</td>\n",
       "      <td>491</td>\n",
       "      <td>468</td>\n",
       "      <td>467</td>\n",
       "      <td>485</td>\n",
       "    </tr>\n",
       "    <tr>\n",
       "      <th>1743</th>\n",
       "      <td>477</td>\n",
       "      <td>442</td>\n",
       "      <td>559</td>\n",
       "      <td>481</td>\n",
       "      <td>529</td>\n",
       "      <td>484</td>\n",
       "      <td>496</td>\n",
       "      <td>478</td>\n",
       "      <td>495</td>\n",
       "      <td>469</td>\n",
       "      <td>...</td>\n",
       "      <td>467</td>\n",
       "      <td>474</td>\n",
       "      <td>513</td>\n",
       "      <td>539</td>\n",
       "      <td>516</td>\n",
       "      <td>490</td>\n",
       "      <td>475</td>\n",
       "      <td>492</td>\n",
       "      <td>513</td>\n",
       "      <td>510</td>\n",
       "    </tr>\n",
       "  </tbody>\n",
       "</table>\n",
       "<p>5 rows × 500 columns</p>\n",
       "</div>"
      ],
      "text/plain": [
       "      0    1    2    3    4    5    6    7    8    9   ...   490  491  492  \\\n",
       "388   477  466  531  486  459  484  506  477  491  494 ...   454  476  490   \n",
       "414   483  503  549  485  524  487  434  479  497  470 ...   481  481  493   \n",
       "710   479  489  473  477  483  473  404  474  493  478 ...   485  483  498   \n",
       "1165  483  491  471  485  494  474  490  477  470  479 ...   493  476  464   \n",
       "1743  477  442  559  481  529  484  496  478  495  469 ...   467  474  513   \n",
       "\n",
       "      493  494  495  496  497  498  499  \n",
       "388   410  533  498  477  481  524  483  \n",
       "414   685  502  447  484  473  527  509  \n",
       "710   326  475  507  490  474  504  467  \n",
       "1165  281  527  487  491  468  467  485  \n",
       "1743  539  516  490  475  492  513  510  \n",
       "\n",
       "[5 rows x 500 columns]"
      ]
     },
     "execution_count": 64,
     "metadata": {},
     "output_type": "execute_result"
    }
   ],
   "source": [
    "madelon_train10.head()"
   ]
  },
  {
   "cell_type": "code",
   "execution_count": 65,
   "metadata": {},
   "outputs": [
    {
     "data": {
      "text/plain": [
       "(200, 500)"
      ]
     },
     "execution_count": 65,
     "metadata": {},
     "output_type": "execute_result"
    }
   ],
   "source": [
    "madelon_train10.shape"
   ]
  },
  {
   "cell_type": "code",
   "execution_count": 66,
   "metadata": {},
   "outputs": [
    {
     "data": {
      "text/plain": [
       "(200,)"
      ]
     },
     "execution_count": 66,
     "metadata": {},
     "output_type": "execute_result"
    }
   ],
   "source": [
    "madelon_train_label10.shape"
   ]
  },
  {
   "cell_type": "code",
   "execution_count": 67,
   "metadata": {
    "collapsed": true
   },
   "outputs": [],
   "source": [
    "mad_X_train, mad_X_test, mad_y_train, mad_y_test = train_test_split(madelon_train10,\\\n",
    "                                                                    madelon_train_label10)"
   ]
  },
  {
   "cell_type": "code",
   "execution_count": 68,
   "metadata": {},
   "outputs": [
    {
     "data": {
      "text/plain": [
       "(150, 500)"
      ]
     },
     "metadata": {},
     "output_type": "display_data"
    },
    {
     "data": {
      "text/plain": [
       "(50, 500)"
      ]
     },
     "metadata": {},
     "output_type": "display_data"
    },
    {
     "data": {
      "text/plain": [
       "(150,)"
      ]
     },
     "metadata": {},
     "output_type": "display_data"
    },
    {
     "data": {
      "text/plain": [
       "(50,)"
      ]
     },
     "metadata": {},
     "output_type": "display_data"
    }
   ],
   "source": [
    "display(mad_X_train.shape)\n",
    "display(mad_X_test.shape)\n",
    "display(mad_y_train.shape)\n",
    "display(mad_y_test.shape)"
   ]
  },
  {
   "cell_type": "markdown",
   "metadata": {},
   "source": [
    "#### Madelon Dataset (Raw Benchmarking without any Preprocessing)\n",
    "Uses the out of the box default parameters provided by `sklearn` for the selected classification models."
   ]
  },
  {
   "cell_type": "code",
   "execution_count": 69,
   "metadata": {
    "collapsed": true
   },
   "outputs": [],
   "source": [
    "names_of_classifiers = ['LogisticRegression', 'KNeighbors', 'DecisionTree', 'SVClassifier']\n",
    "\n",
    "classifiers = [\n",
    "    LogisticRegression(n_jobs=-1, random_state=42),\n",
    "    KNeighborsClassifier(n_jobs=-1),\n",
    "    DecisionTreeClassifier(random_state=42),\n",
    "    SVC(random_state=42)]"
   ]
  },
  {
   "cell_type": "markdown",
   "metadata": {},
   "source": [
    "Store the results in a dictionary to subsequenty be able to throw the results to compare into a pandas DataFrame"
   ]
  },
  {
   "cell_type": "code",
   "execution_count": 76,
   "metadata": {
    "collapsed": true
   },
   "outputs": [],
   "source": [
    "raw_test_scores = {}\n",
    "raw_train_scores = {}\n",
    "raw_y_preds = {}\n",
    "\n",
    "for name, clfr in zip(names_of_classifiers, classifiers):\n",
    "    clfr.fit(mad_X_train, mad_y_train)\n",
    "    \n",
    "    train_score = clfr.score(mad_X_train, mad_y_train)\n",
    "    test_score = clfr.score(mad_X_test, mad_y_test)\n",
    "    y_pred = clfr.predict(mad_X_test)\n",
    "    \n",
    "    raw_train_scores[name] = train_score\n",
    "    raw_test_scores[name] = test_score\n",
    "    raw_y_preds[name] = y_pred\n",
    "    "
   ]
  },
  {
   "cell_type": "code",
   "execution_count": 77,
   "metadata": {},
   "outputs": [
    {
     "data": {
      "text/plain": [
       "{'DecisionTree': 0.71999999999999997,\n",
       " 'KNeighbors': 0.59999999999999998,\n",
       " 'LogisticRegression': 0.68000000000000005,\n",
       " 'SVClassifier': 0.40000000000000002}"
      ]
     },
     "execution_count": 77,
     "metadata": {},
     "output_type": "execute_result"
    }
   ],
   "source": [
    "raw_test_scores"
   ]
  },
  {
   "cell_type": "code",
   "execution_count": 78,
   "metadata": {},
   "outputs": [
    {
     "data": {
      "text/plain": [
       "{'DecisionTree': 1.0,\n",
       " 'KNeighbors': 0.76000000000000001,\n",
       " 'LogisticRegression': 1.0,\n",
       " 'SVClassifier': 1.0}"
      ]
     },
     "execution_count": 78,
     "metadata": {},
     "output_type": "execute_result"
    }
   ],
   "source": [
    "raw_train_scores"
   ]
  },
  {
   "cell_type": "code",
   "execution_count": 79,
   "metadata": {},
   "outputs": [
    {
     "data": {
      "text/plain": [
       "{'DecisionTree': array([-1,  1, -1, -1,  1,  1, -1, -1, -1, -1, -1,  1, -1, -1,  1,  1,  1,\n",
       "         1,  1, -1,  1,  1,  1,  1,  1, -1,  1, -1,  1,  1, -1, -1,  1, -1,\n",
       "         1,  1, -1,  1, -1,  1,  1, -1, -1,  1, -1,  1,  1,  1,  1, -1]),\n",
       " 'KNeighbors': array([-1,  1, -1,  1,  1,  1,  1,  1, -1, -1,  1,  1, -1, -1,  1,  1, -1,\n",
       "        -1,  1,  1,  1, -1,  1,  1, -1,  1, -1, -1,  1, -1, -1,  1,  1, -1,\n",
       "         1,  1,  1,  1, -1, -1,  1, -1,  1,  1, -1,  1, -1,  1, -1, -1]),\n",
       " 'LogisticRegression': array([ 1,  1, -1,  1,  1,  1,  1,  1, -1, -1,  1,  1, -1,  1, -1,  1, -1,\n",
       "         1, -1, -1,  1,  1, -1,  1,  1,  1, -1, -1,  1, -1, -1,  1,  1, -1,\n",
       "        -1, -1, -1, -1,  1, -1,  1,  1, -1,  1,  1,  1, -1, -1,  1,  1]),\n",
       " 'SVClassifier': array([-1, -1, -1, -1, -1, -1, -1, -1, -1, -1, -1, -1, -1, -1, -1, -1, -1,\n",
       "        -1, -1, -1, -1, -1, -1, -1, -1, -1, -1, -1, -1, -1, -1, -1, -1, -1,\n",
       "        -1, -1, -1, -1, -1, -1, -1, -1, -1, -1, -1, -1, -1, -1, -1, -1])}"
      ]
     },
     "execution_count": 79,
     "metadata": {},
     "output_type": "execute_result"
    }
   ],
   "source": [
    "raw_y_preds"
   ]
  },
  {
   "cell_type": "code",
   "execution_count": null,
   "metadata": {
    "collapsed": true
   },
   "outputs": [],
   "source": [
    "def calculate_log_loss (y_true, y_pred):\n",
    "    "
   ]
  },
  {
   "cell_type": "code",
   "execution_count": null,
   "metadata": {
    "collapsed": true
   },
   "outputs": [],
   "source": []
  }
 ],
 "metadata": {
  "kernelspec": {
   "display_name": "Python 3",
   "language": "python",
   "name": "python3"
  },
  "language_info": {
   "codemirror_mode": {
    "name": "ipython",
    "version": 3
   },
   "file_extension": ".py",
   "mimetype": "text/x-python",
   "name": "python",
   "nbconvert_exporter": "python",
   "pygments_lexer": "ipython3",
   "version": "3.6.2"
  }
 },
 "nbformat": 4,
 "nbformat_minor": 2
}
