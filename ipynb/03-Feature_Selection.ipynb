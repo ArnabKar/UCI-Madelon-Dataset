{
 "cells": [
  {
   "cell_type": "markdown",
   "metadata": {},
   "source": [
    "# Feature Selection\n",
    "\n",
    "**PROCESS**\n",
    "1. Load the Data, including the labels (-1 and 1 for UCI Madelon, and 0 and 1 for Cook Madelon datasets).\n",
    "2. Use the raw data with all of the original features (500 for UCI Madelon, 1,000 for Cook Madelon) \n",
    "3. Build feature selection pipelines that include the following feature selection methods:\n",
    "        - SelectKBest \n",
    "        - SelectFromModel(LogisticRegression)\n",
    "        - Recursive Feature Eliminator (LogisticRegression)\n",
    "4. Calculate the frequency of the returned feature numbers for each dataset as a means of 'voting' for which features would be considered the most relevant of the total 500 and 1,000 in the UCI and Cook Madelon dataset, respectively.\n",
    "5. Compare the selected features in each case to the Feature Extraction methods implemented in Notebook 2\n",
    "\n",
    "**RESULTS**"
   ]
  },
  {
   "cell_type": "markdown",
   "metadata": {},
   "source": [
    "**Both Cook & UCI Madelon:** SelectKBest appears to be the best feature selector based on the number of features that matched up with the features that emerged from the Feature Extraction process in Notebook 2."
   ]
  },
  {
   "cell_type": "code",
   "execution_count": 3,
   "metadata": {
    "collapsed": true
   },
   "outputs": [],
   "source": [
    "import numpy as np, pandas as pd\n",
    "import matplotlib.pyplot as plt, seaborn as sns\n",
    "%matplotlib inline"
   ]
  },
  {
   "cell_type": "code",
   "execution_count": 4,
   "metadata": {
    "collapsed": true
   },
   "outputs": [],
   "source": [
    "from sklearn.model_selection import train_test_split\n",
    "from sklearn.pipeline import Pipeline\n",
    "\n",
    "from sklearn.preprocessing import MinMaxScaler, StandardScaler\n",
    "from scipy import stats\n",
    "\n",
    "from sklearn.feature_selection import SelectFromModel, SelectKBest, RFE\n",
    "\n",
    "from sklearn.linear_model import LogisticRegression\n",
    "from sklearn.neighbors import KNeighborsClassifier\n",
    "from sklearn.tree import DecisionTreeClassifier\n",
    "from sklearn.svm import SVC"
   ]
  },
  {
   "cell_type": "markdown",
   "metadata": {},
   "source": [
    "### Load Data"
   ]
  },
  {
   "cell_type": "markdown",
   "metadata": {},
   "source": [
    "**UCI Madelon**\n",
    "- Load in a sample (600) of the original train set (2,000 samples) with all 500 features.\n",
    "- Load in the valid set, 600 samples by 500 features, with the labels included as an extra column."
   ]
  },
  {
   "cell_type": "code",
   "execution_count": 5,
   "metadata": {},
   "outputs": [
    {
     "data": {
      "text/plain": [
       "'/home/jovyan/ipynb'"
      ]
     },
     "execution_count": 5,
     "metadata": {},
     "output_type": "execute_result"
    }
   ],
   "source": [
    "pwd"
   ]
  },
  {
   "cell_type": "code",
   "execution_count": 6,
   "metadata": {
    "collapsed": true
   },
   "outputs": [],
   "source": [
    "madelon_train = pd.read_pickle('../assets/pickled_samples/madelon_sample_train.p')\n",
    "madelon_train_labels = pd.read_pickle('../assets/pickled_samples/madelon_sample_train_labels.p')"
   ]
  },
  {
   "cell_type": "code",
   "execution_count": 7,
   "metadata": {
    "collapsed": true
   },
   "outputs": [],
   "source": [
    "madelon_valid = pd.read_pickle('../assets/pickled_samples/madelon_valid_total.p')"
   ]
  },
  {
   "cell_type": "code",
   "execution_count": 8,
   "metadata": {
    "scrolled": true
   },
   "outputs": [
    {
     "data": {
      "text/plain": [
       "(600, 500)"
      ]
     },
     "metadata": {},
     "output_type": "display_data"
    },
    {
     "data": {
      "text/plain": [
       "(600,)"
      ]
     },
     "metadata": {},
     "output_type": "display_data"
    },
    {
     "data": {
      "text/plain": [
       "(600, 501)"
      ]
     },
     "metadata": {},
     "output_type": "display_data"
    }
   ],
   "source": [
    "display(madelon_train.shape)\n",
    "display(madelon_train_labels.shape)\n",
    "display(madelon_valid.shape)"
   ]
  },
  {
   "cell_type": "code",
   "execution_count": 9,
   "metadata": {},
   "outputs": [
    {
     "data": {
      "text/html": [
       "<div>\n",
       "<table border=\"1\" class=\"dataframe\">\n",
       "  <thead>\n",
       "    <tr style=\"text-align: right;\">\n",
       "      <th></th>\n",
       "      <th>0</th>\n",
       "      <th>1</th>\n",
       "      <th>2</th>\n",
       "      <th>3</th>\n",
       "      <th>4</th>\n",
       "      <th>5</th>\n",
       "      <th>6</th>\n",
       "      <th>7</th>\n",
       "      <th>8</th>\n",
       "      <th>9</th>\n",
       "      <th>...</th>\n",
       "      <th>490</th>\n",
       "      <th>491</th>\n",
       "      <th>492</th>\n",
       "      <th>493</th>\n",
       "      <th>494</th>\n",
       "      <th>495</th>\n",
       "      <th>496</th>\n",
       "      <th>497</th>\n",
       "      <th>498</th>\n",
       "      <th>499</th>\n",
       "    </tr>\n",
       "  </thead>\n",
       "  <tbody>\n",
       "    <tr>\n",
       "      <th>1239</th>\n",
       "      <td>492</td>\n",
       "      <td>526</td>\n",
       "      <td>464</td>\n",
       "      <td>476</td>\n",
       "      <td>500</td>\n",
       "      <td>479</td>\n",
       "      <td>445</td>\n",
       "      <td>475</td>\n",
       "      <td>488</td>\n",
       "      <td>467</td>\n",
       "      <td>...</td>\n",
       "      <td>521</td>\n",
       "      <td>477</td>\n",
       "      <td>489</td>\n",
       "      <td>456</td>\n",
       "      <td>487</td>\n",
       "      <td>486</td>\n",
       "      <td>484</td>\n",
       "      <td>467</td>\n",
       "      <td>507</td>\n",
       "      <td>469</td>\n",
       "    </tr>\n",
       "    <tr>\n",
       "      <th>1252</th>\n",
       "      <td>479</td>\n",
       "      <td>488</td>\n",
       "      <td>615</td>\n",
       "      <td>478</td>\n",
       "      <td>476</td>\n",
       "      <td>485</td>\n",
       "      <td>471</td>\n",
       "      <td>476</td>\n",
       "      <td>496</td>\n",
       "      <td>475</td>\n",
       "      <td>...</td>\n",
       "      <td>479</td>\n",
       "      <td>473</td>\n",
       "      <td>472</td>\n",
       "      <td>287</td>\n",
       "      <td>479</td>\n",
       "      <td>493</td>\n",
       "      <td>473</td>\n",
       "      <td>465</td>\n",
       "      <td>496</td>\n",
       "      <td>484</td>\n",
       "    </tr>\n",
       "    <tr>\n",
       "      <th>988</th>\n",
       "      <td>474</td>\n",
       "      <td>505</td>\n",
       "      <td>502</td>\n",
       "      <td>469</td>\n",
       "      <td>494</td>\n",
       "      <td>477</td>\n",
       "      <td>409</td>\n",
       "      <td>478</td>\n",
       "      <td>500</td>\n",
       "      <td>485</td>\n",
       "      <td>...</td>\n",
       "      <td>500</td>\n",
       "      <td>463</td>\n",
       "      <td>497</td>\n",
       "      <td>482</td>\n",
       "      <td>482</td>\n",
       "      <td>521</td>\n",
       "      <td>482</td>\n",
       "      <td>482</td>\n",
       "      <td>469</td>\n",
       "      <td>456</td>\n",
       "    </tr>\n",
       "    <tr>\n",
       "      <th>457</th>\n",
       "      <td>493</td>\n",
       "      <td>499</td>\n",
       "      <td>534</td>\n",
       "      <td>491</td>\n",
       "      <td>489</td>\n",
       "      <td>480</td>\n",
       "      <td>530</td>\n",
       "      <td>479</td>\n",
       "      <td>487</td>\n",
       "      <td>473</td>\n",
       "      <td>...</td>\n",
       "      <td>487</td>\n",
       "      <td>484</td>\n",
       "      <td>496</td>\n",
       "      <td>383</td>\n",
       "      <td>477</td>\n",
       "      <td>486</td>\n",
       "      <td>491</td>\n",
       "      <td>472</td>\n",
       "      <td>549</td>\n",
       "      <td>499</td>\n",
       "    </tr>\n",
       "    <tr>\n",
       "      <th>886</th>\n",
       "      <td>476</td>\n",
       "      <td>518</td>\n",
       "      <td>504</td>\n",
       "      <td>486</td>\n",
       "      <td>502</td>\n",
       "      <td>478</td>\n",
       "      <td>460</td>\n",
       "      <td>474</td>\n",
       "      <td>486</td>\n",
       "      <td>480</td>\n",
       "      <td>...</td>\n",
       "      <td>466</td>\n",
       "      <td>480</td>\n",
       "      <td>475</td>\n",
       "      <td>682</td>\n",
       "      <td>506</td>\n",
       "      <td>489</td>\n",
       "      <td>486</td>\n",
       "      <td>468</td>\n",
       "      <td>505</td>\n",
       "      <td>501</td>\n",
       "    </tr>\n",
       "  </tbody>\n",
       "</table>\n",
       "<p>5 rows × 500 columns</p>\n",
       "</div>"
      ],
      "text/plain": [
       "      0    1    2    3    4    5    6    7    8    9   ...   490  491  492  \\\n",
       "1239  492  526  464  476  500  479  445  475  488  467 ...   521  477  489   \n",
       "1252  479  488  615  478  476  485  471  476  496  475 ...   479  473  472   \n",
       "988   474  505  502  469  494  477  409  478  500  485 ...   500  463  497   \n",
       "457   493  499  534  491  489  480  530  479  487  473 ...   487  484  496   \n",
       "886   476  518  504  486  502  478  460  474  486  480 ...   466  480  475   \n",
       "\n",
       "      493  494  495  496  497  498  499  \n",
       "1239  456  487  486  484  467  507  469  \n",
       "1252  287  479  493  473  465  496  484  \n",
       "988   482  482  521  482  482  469  456  \n",
       "457   383  477  486  491  472  549  499  \n",
       "886   682  506  489  486  468  505  501  \n",
       "\n",
       "[5 rows x 500 columns]"
      ]
     },
     "execution_count": 9,
     "metadata": {},
     "output_type": "execute_result"
    }
   ],
   "source": [
    "madelon_train.head()"
   ]
  },
  {
   "cell_type": "code",
   "execution_count": 10,
   "metadata": {},
   "outputs": [
    {
     "data": {
      "text/plain": [
       "1239    1\n",
       "1252   -1\n",
       "988    -1\n",
       "457     1\n",
       "886     1\n",
       "Name: target, dtype: int64"
      ]
     },
     "execution_count": 10,
     "metadata": {},
     "output_type": "execute_result"
    }
   ],
   "source": [
    "madelon_train_labels.head()"
   ]
  },
  {
   "cell_type": "code",
   "execution_count": 11,
   "metadata": {},
   "outputs": [
    {
     "data": {
      "text/html": [
       "<div>\n",
       "<table border=\"1\" class=\"dataframe\">\n",
       "  <thead>\n",
       "    <tr style=\"text-align: right;\">\n",
       "      <th></th>\n",
       "      <th>0</th>\n",
       "      <th>1</th>\n",
       "      <th>2</th>\n",
       "      <th>3</th>\n",
       "      <th>4</th>\n",
       "      <th>5</th>\n",
       "      <th>6</th>\n",
       "      <th>7</th>\n",
       "      <th>8</th>\n",
       "      <th>9</th>\n",
       "      <th>...</th>\n",
       "      <th>491</th>\n",
       "      <th>492</th>\n",
       "      <th>493</th>\n",
       "      <th>494</th>\n",
       "      <th>495</th>\n",
       "      <th>496</th>\n",
       "      <th>497</th>\n",
       "      <th>498</th>\n",
       "      <th>499</th>\n",
       "      <th>target</th>\n",
       "    </tr>\n",
       "  </thead>\n",
       "  <tbody>\n",
       "    <tr>\n",
       "      <th>0</th>\n",
       "      <td>483</td>\n",
       "      <td>454</td>\n",
       "      <td>513</td>\n",
       "      <td>495</td>\n",
       "      <td>523</td>\n",
       "      <td>469</td>\n",
       "      <td>453</td>\n",
       "      <td>477</td>\n",
       "      <td>506</td>\n",
       "      <td>479</td>\n",
       "      <td>...</td>\n",
       "      <td>480</td>\n",
       "      <td>543</td>\n",
       "      <td>259</td>\n",
       "      <td>413</td>\n",
       "      <td>520</td>\n",
       "      <td>485</td>\n",
       "      <td>498</td>\n",
       "      <td>523</td>\n",
       "      <td>510</td>\n",
       "      <td>-1</td>\n",
       "    </tr>\n",
       "    <tr>\n",
       "      <th>1</th>\n",
       "      <td>485</td>\n",
       "      <td>508</td>\n",
       "      <td>493</td>\n",
       "      <td>487</td>\n",
       "      <td>478</td>\n",
       "      <td>472</td>\n",
       "      <td>504</td>\n",
       "      <td>476</td>\n",
       "      <td>479</td>\n",
       "      <td>475</td>\n",
       "      <td>...</td>\n",
       "      <td>480</td>\n",
       "      <td>535</td>\n",
       "      <td>534</td>\n",
       "      <td>514</td>\n",
       "      <td>452</td>\n",
       "      <td>484</td>\n",
       "      <td>495</td>\n",
       "      <td>548</td>\n",
       "      <td>477</td>\n",
       "      <td>-1</td>\n",
       "    </tr>\n",
       "    <tr>\n",
       "      <th>2</th>\n",
       "      <td>483</td>\n",
       "      <td>521</td>\n",
       "      <td>507</td>\n",
       "      <td>475</td>\n",
       "      <td>493</td>\n",
       "      <td>486</td>\n",
       "      <td>421</td>\n",
       "      <td>475</td>\n",
       "      <td>496</td>\n",
       "      <td>483</td>\n",
       "      <td>...</td>\n",
       "      <td>476</td>\n",
       "      <td>498</td>\n",
       "      <td>495</td>\n",
       "      <td>508</td>\n",
       "      <td>528</td>\n",
       "      <td>486</td>\n",
       "      <td>465</td>\n",
       "      <td>508</td>\n",
       "      <td>503</td>\n",
       "      <td>-1</td>\n",
       "    </tr>\n",
       "    <tr>\n",
       "      <th>3</th>\n",
       "      <td>474</td>\n",
       "      <td>504</td>\n",
       "      <td>576</td>\n",
       "      <td>480</td>\n",
       "      <td>553</td>\n",
       "      <td>483</td>\n",
       "      <td>524</td>\n",
       "      <td>478</td>\n",
       "      <td>483</td>\n",
       "      <td>483</td>\n",
       "      <td>...</td>\n",
       "      <td>475</td>\n",
       "      <td>470</td>\n",
       "      <td>463</td>\n",
       "      <td>509</td>\n",
       "      <td>525</td>\n",
       "      <td>479</td>\n",
       "      <td>467</td>\n",
       "      <td>552</td>\n",
       "      <td>517</td>\n",
       "      <td>1</td>\n",
       "    </tr>\n",
       "    <tr>\n",
       "      <th>4</th>\n",
       "      <td>495</td>\n",
       "      <td>474</td>\n",
       "      <td>523</td>\n",
       "      <td>479</td>\n",
       "      <td>495</td>\n",
       "      <td>488</td>\n",
       "      <td>485</td>\n",
       "      <td>476</td>\n",
       "      <td>497</td>\n",
       "      <td>478</td>\n",
       "      <td>...</td>\n",
       "      <td>471</td>\n",
       "      <td>522</td>\n",
       "      <td>343</td>\n",
       "      <td>509</td>\n",
       "      <td>520</td>\n",
       "      <td>475</td>\n",
       "      <td>493</td>\n",
       "      <td>506</td>\n",
       "      <td>491</td>\n",
       "      <td>-1</td>\n",
       "    </tr>\n",
       "  </tbody>\n",
       "</table>\n",
       "<p>5 rows × 501 columns</p>\n",
       "</div>"
      ],
      "text/plain": [
       "     0    1    2    3    4    5    6    7    8    9   ...    491  492  493  \\\n",
       "0  483  454  513  495  523  469  453  477  506  479   ...    480  543  259   \n",
       "1  485  508  493  487  478  472  504  476  479  475   ...    480  535  534   \n",
       "2  483  521  507  475  493  486  421  475  496  483   ...    476  498  495   \n",
       "3  474  504  576  480  553  483  524  478  483  483   ...    475  470  463   \n",
       "4  495  474  523  479  495  488  485  476  497  478   ...    471  522  343   \n",
       "\n",
       "   494  495  496  497  498  499  target  \n",
       "0  413  520  485  498  523  510      -1  \n",
       "1  514  452  484  495  548  477      -1  \n",
       "2  508  528  486  465  508  503      -1  \n",
       "3  509  525  479  467  552  517       1  \n",
       "4  509  520  475  493  506  491      -1  \n",
       "\n",
       "[5 rows x 501 columns]"
      ]
     },
     "execution_count": 11,
     "metadata": {},
     "output_type": "execute_result"
    }
   ],
   "source": [
    "madelon_valid.head()"
   ]
  },
  {
   "cell_type": "markdown",
   "metadata": {},
   "source": [
    "**Cook Madelon**\n",
    "- Load in a sample of the train set, 6,600 samples x 1,000 features.\n",
    "- Extra columns include the `_id` column and the `target` column."
   ]
  },
  {
   "cell_type": "code",
   "execution_count": 12,
   "metadata": {
    "collapsed": true
   },
   "outputs": [],
   "source": [
    "cook_samples = pd.read_pickle('../assets/pickled_samples/cook_total_samples.p')"
   ]
  },
  {
   "cell_type": "code",
   "execution_count": 13,
   "metadata": {},
   "outputs": [
    {
     "data": {
      "text/plain": [
       "(6600, 1002)"
      ]
     },
     "execution_count": 13,
     "metadata": {},
     "output_type": "execute_result"
    }
   ],
   "source": [
    "cook_samples.shape"
   ]
  },
  {
   "cell_type": "code",
   "execution_count": 14,
   "metadata": {},
   "outputs": [
    {
     "data": {
      "text/html": [
       "<div>\n",
       "<table border=\"1\" class=\"dataframe\">\n",
       "  <thead>\n",
       "    <tr style=\"text-align: right;\">\n",
       "      <th></th>\n",
       "      <th>_id</th>\n",
       "      <th>feat_000</th>\n",
       "      <th>feat_001</th>\n",
       "      <th>feat_002</th>\n",
       "      <th>feat_003</th>\n",
       "      <th>feat_004</th>\n",
       "      <th>feat_005</th>\n",
       "      <th>feat_006</th>\n",
       "      <th>feat_007</th>\n",
       "      <th>feat_008</th>\n",
       "      <th>...</th>\n",
       "      <th>feat_991</th>\n",
       "      <th>feat_992</th>\n",
       "      <th>feat_993</th>\n",
       "      <th>feat_994</th>\n",
       "      <th>feat_995</th>\n",
       "      <th>feat_996</th>\n",
       "      <th>feat_997</th>\n",
       "      <th>feat_998</th>\n",
       "      <th>feat_999</th>\n",
       "      <th>target</th>\n",
       "    </tr>\n",
       "  </thead>\n",
       "  <tbody>\n",
       "    <tr>\n",
       "      <th>0</th>\n",
       "      <td>35870</td>\n",
       "      <td>0.371429</td>\n",
       "      <td>1.557665</td>\n",
       "      <td>0.088738</td>\n",
       "      <td>-0.568426</td>\n",
       "      <td>0.279411</td>\n",
       "      <td>0.553009</td>\n",
       "      <td>-2.263165</td>\n",
       "      <td>0.322735</td>\n",
       "      <td>-0.770665</td>\n",
       "      <td>...</td>\n",
       "      <td>-0.006892</td>\n",
       "      <td>0.504680</td>\n",
       "      <td>-1.534529</td>\n",
       "      <td>0.120796</td>\n",
       "      <td>1.485370</td>\n",
       "      <td>0.481770</td>\n",
       "      <td>0.499728</td>\n",
       "      <td>-2.032250</td>\n",
       "      <td>-0.245348</td>\n",
       "      <td>1</td>\n",
       "    </tr>\n",
       "    <tr>\n",
       "      <th>1</th>\n",
       "      <td>92973</td>\n",
       "      <td>-0.044490</td>\n",
       "      <td>-1.042972</td>\n",
       "      <td>0.245990</td>\n",
       "      <td>-0.187297</td>\n",
       "      <td>1.355108</td>\n",
       "      <td>-0.086559</td>\n",
       "      <td>-0.409865</td>\n",
       "      <td>-0.156749</td>\n",
       "      <td>-0.388948</td>\n",
       "      <td>...</td>\n",
       "      <td>-0.363377</td>\n",
       "      <td>-0.313348</td>\n",
       "      <td>-0.518927</td>\n",
       "      <td>-0.515884</td>\n",
       "      <td>0.345514</td>\n",
       "      <td>-0.140779</td>\n",
       "      <td>-0.113291</td>\n",
       "      <td>1.161730</td>\n",
       "      <td>-0.616847</td>\n",
       "      <td>0</td>\n",
       "    </tr>\n",
       "    <tr>\n",
       "      <th>2</th>\n",
       "      <td>56479</td>\n",
       "      <td>0.043489</td>\n",
       "      <td>0.440636</td>\n",
       "      <td>0.047697</td>\n",
       "      <td>-1.933592</td>\n",
       "      <td>1.219459</td>\n",
       "      <td>0.182951</td>\n",
       "      <td>-2.266318</td>\n",
       "      <td>-0.721327</td>\n",
       "      <td>0.510775</td>\n",
       "      <td>...</td>\n",
       "      <td>-1.811937</td>\n",
       "      <td>0.563980</td>\n",
       "      <td>1.152395</td>\n",
       "      <td>-0.060437</td>\n",
       "      <td>-0.723646</td>\n",
       "      <td>0.529993</td>\n",
       "      <td>1.599007</td>\n",
       "      <td>-0.053172</td>\n",
       "      <td>0.581611</td>\n",
       "      <td>0</td>\n",
       "    </tr>\n",
       "    <tr>\n",
       "      <th>3</th>\n",
       "      <td>119182</td>\n",
       "      <td>0.567497</td>\n",
       "      <td>0.313351</td>\n",
       "      <td>0.744730</td>\n",
       "      <td>-1.350541</td>\n",
       "      <td>-0.068053</td>\n",
       "      <td>0.588990</td>\n",
       "      <td>0.290120</td>\n",
       "      <td>0.229521</td>\n",
       "      <td>0.848661</td>\n",
       "      <td>...</td>\n",
       "      <td>0.308947</td>\n",
       "      <td>-0.315620</td>\n",
       "      <td>-0.703337</td>\n",
       "      <td>0.499579</td>\n",
       "      <td>1.128113</td>\n",
       "      <td>-0.067667</td>\n",
       "      <td>0.086741</td>\n",
       "      <td>-0.861531</td>\n",
       "      <td>0.361497</td>\n",
       "      <td>1</td>\n",
       "    </tr>\n",
       "    <tr>\n",
       "      <th>4</th>\n",
       "      <td>34782</td>\n",
       "      <td>-0.111258</td>\n",
       "      <td>-0.682838</td>\n",
       "      <td>-0.561106</td>\n",
       "      <td>-0.381560</td>\n",
       "      <td>0.540490</td>\n",
       "      <td>-1.115611</td>\n",
       "      <td>-1.473109</td>\n",
       "      <td>0.728398</td>\n",
       "      <td>-0.267222</td>\n",
       "      <td>...</td>\n",
       "      <td>1.522104</td>\n",
       "      <td>-0.325736</td>\n",
       "      <td>0.967692</td>\n",
       "      <td>0.919213</td>\n",
       "      <td>2.192081</td>\n",
       "      <td>-0.672942</td>\n",
       "      <td>-0.325374</td>\n",
       "      <td>-0.782994</td>\n",
       "      <td>0.662257</td>\n",
       "      <td>1</td>\n",
       "    </tr>\n",
       "  </tbody>\n",
       "</table>\n",
       "<p>5 rows × 1002 columns</p>\n",
       "</div>"
      ],
      "text/plain": [
       "      _id  feat_000  feat_001  feat_002  feat_003  feat_004  feat_005  \\\n",
       "0   35870  0.371429  1.557665  0.088738 -0.568426  0.279411  0.553009   \n",
       "1   92973 -0.044490 -1.042972  0.245990 -0.187297  1.355108 -0.086559   \n",
       "2   56479  0.043489  0.440636  0.047697 -1.933592  1.219459  0.182951   \n",
       "3  119182  0.567497  0.313351  0.744730 -1.350541 -0.068053  0.588990   \n",
       "4   34782 -0.111258 -0.682838 -0.561106 -0.381560  0.540490 -1.115611   \n",
       "\n",
       "   feat_006  feat_007  feat_008   ...    feat_991  feat_992  feat_993  \\\n",
       "0 -2.263165  0.322735 -0.770665   ...   -0.006892  0.504680 -1.534529   \n",
       "1 -0.409865 -0.156749 -0.388948   ...   -0.363377 -0.313348 -0.518927   \n",
       "2 -2.266318 -0.721327  0.510775   ...   -1.811937  0.563980  1.152395   \n",
       "3  0.290120  0.229521  0.848661   ...    0.308947 -0.315620 -0.703337   \n",
       "4 -1.473109  0.728398 -0.267222   ...    1.522104 -0.325736  0.967692   \n",
       "\n",
       "   feat_994  feat_995  feat_996  feat_997  feat_998  feat_999  target  \n",
       "0  0.120796  1.485370  0.481770  0.499728 -2.032250 -0.245348       1  \n",
       "1 -0.515884  0.345514 -0.140779 -0.113291  1.161730 -0.616847       0  \n",
       "2 -0.060437 -0.723646  0.529993  1.599007 -0.053172  0.581611       0  \n",
       "3  0.499579  1.128113 -0.067667  0.086741 -0.861531  0.361497       1  \n",
       "4  0.919213  2.192081 -0.672942 -0.325374 -0.782994  0.662257       1  \n",
       "\n",
       "[5 rows x 1002 columns]"
      ]
     },
     "execution_count": 14,
     "metadata": {},
     "output_type": "execute_result"
    }
   ],
   "source": [
    "cook_samples.head()"
   ]
  },
  {
   "cell_type": "markdown",
   "metadata": {},
   "source": [
    "### Train Test Split"
   ]
  },
  {
   "cell_type": "markdown",
   "metadata": {},
   "source": [
    "**UCI Madelon**\n",
    "- The train data is already split off into X_train and y_train, with X_train being the `madelon_train` dataframe, and the y_train being the `madelon_train_labels` dataframe.\n",
    "- The valid data is NOT separated into an X_test and a y_test, since the target is included in the `madelon_valid` dataframe. The below code will separate the `madelon_valid` dataframe into an X_test and y_test to prepare the data for each of the 7 Feature Selection methods below. \n",
    "- Because there are 600 samples in the training data, and 600 samples on the validation data, this is a 50/50 train-test-split."
   ]
  },
  {
   "cell_type": "code",
   "execution_count": 15,
   "metadata": {
    "collapsed": true
   },
   "outputs": [],
   "source": [
    "madelonXtrain = madelon_train\n",
    "madelonytrain = madelon_train_labels"
   ]
  },
  {
   "cell_type": "code",
   "execution_count": 16,
   "metadata": {
    "collapsed": true
   },
   "outputs": [],
   "source": [
    "madelonXtest = madelon_valid.drop('target', axis=1)\n",
    "madelonytest = madelon_valid['target']"
   ]
  },
  {
   "cell_type": "code",
   "execution_count": 17,
   "metadata": {},
   "outputs": [
    {
     "data": {
      "text/plain": [
       "(600, 500)"
      ]
     },
     "metadata": {},
     "output_type": "display_data"
    },
    {
     "data": {
      "text/plain": [
       "(600, 500)"
      ]
     },
     "metadata": {},
     "output_type": "display_data"
    },
    {
     "data": {
      "text/plain": [
       "(600,)"
      ]
     },
     "metadata": {},
     "output_type": "display_data"
    },
    {
     "data": {
      "text/plain": [
       "(600,)"
      ]
     },
     "metadata": {},
     "output_type": "display_data"
    }
   ],
   "source": [
    "display(madelonXtrain.shape)\n",
    "display(madelonXtest.shape)\n",
    "display(madelonytrain.shape)\n",
    "display(madelonytest.shape)"
   ]
  },
  {
   "cell_type": "markdown",
   "metadata": {},
   "source": [
    "**Cook Madelon**\n",
    "- The `_id` column will be dropped.\n",
    "- The target column separated and defined as `y`\n",
    "- The samples with all 1,000 features will be defined as `X`\n",
    "- Then train / test / split will be completed in preparation to feed into each of the Feature Selection methods below."
   ]
  },
  {
   "cell_type": "code",
   "execution_count": 18,
   "metadata": {
    "collapsed": true
   },
   "outputs": [],
   "source": [
    "cookX = cook_samples.iloc[:, 1:1001]\n",
    "cooky = cook_samples['target']"
   ]
  },
  {
   "cell_type": "code",
   "execution_count": 19,
   "metadata": {},
   "outputs": [
    {
     "data": {
      "text/html": [
       "<div>\n",
       "<table border=\"1\" class=\"dataframe\">\n",
       "  <thead>\n",
       "    <tr style=\"text-align: right;\">\n",
       "      <th></th>\n",
       "      <th>feat_000</th>\n",
       "      <th>feat_001</th>\n",
       "      <th>feat_002</th>\n",
       "      <th>feat_003</th>\n",
       "      <th>feat_004</th>\n",
       "      <th>feat_005</th>\n",
       "      <th>feat_006</th>\n",
       "      <th>feat_007</th>\n",
       "      <th>feat_008</th>\n",
       "      <th>feat_009</th>\n",
       "      <th>...</th>\n",
       "      <th>feat_990</th>\n",
       "      <th>feat_991</th>\n",
       "      <th>feat_992</th>\n",
       "      <th>feat_993</th>\n",
       "      <th>feat_994</th>\n",
       "      <th>feat_995</th>\n",
       "      <th>feat_996</th>\n",
       "      <th>feat_997</th>\n",
       "      <th>feat_998</th>\n",
       "      <th>feat_999</th>\n",
       "    </tr>\n",
       "  </thead>\n",
       "  <tbody>\n",
       "    <tr>\n",
       "      <th>0</th>\n",
       "      <td>0.371429</td>\n",
       "      <td>1.557665</td>\n",
       "      <td>0.088738</td>\n",
       "      <td>-0.568426</td>\n",
       "      <td>0.279411</td>\n",
       "      <td>0.553009</td>\n",
       "      <td>-2.263165</td>\n",
       "      <td>0.322735</td>\n",
       "      <td>-0.770665</td>\n",
       "      <td>-0.489383</td>\n",
       "      <td>...</td>\n",
       "      <td>-0.796701</td>\n",
       "      <td>-0.006892</td>\n",
       "      <td>0.504680</td>\n",
       "      <td>-1.534529</td>\n",
       "      <td>0.120796</td>\n",
       "      <td>1.485370</td>\n",
       "      <td>0.481770</td>\n",
       "      <td>0.499728</td>\n",
       "      <td>-2.032250</td>\n",
       "      <td>-0.245348</td>\n",
       "    </tr>\n",
       "    <tr>\n",
       "      <th>1</th>\n",
       "      <td>-0.044490</td>\n",
       "      <td>-1.042972</td>\n",
       "      <td>0.245990</td>\n",
       "      <td>-0.187297</td>\n",
       "      <td>1.355108</td>\n",
       "      <td>-0.086559</td>\n",
       "      <td>-0.409865</td>\n",
       "      <td>-0.156749</td>\n",
       "      <td>-0.388948</td>\n",
       "      <td>0.732151</td>\n",
       "      <td>...</td>\n",
       "      <td>0.597574</td>\n",
       "      <td>-0.363377</td>\n",
       "      <td>-0.313348</td>\n",
       "      <td>-0.518927</td>\n",
       "      <td>-0.515884</td>\n",
       "      <td>0.345514</td>\n",
       "      <td>-0.140779</td>\n",
       "      <td>-0.113291</td>\n",
       "      <td>1.161730</td>\n",
       "      <td>-0.616847</td>\n",
       "    </tr>\n",
       "    <tr>\n",
       "      <th>2</th>\n",
       "      <td>0.043489</td>\n",
       "      <td>0.440636</td>\n",
       "      <td>0.047697</td>\n",
       "      <td>-1.933592</td>\n",
       "      <td>1.219459</td>\n",
       "      <td>0.182951</td>\n",
       "      <td>-2.266318</td>\n",
       "      <td>-0.721327</td>\n",
       "      <td>0.510775</td>\n",
       "      <td>0.404986</td>\n",
       "      <td>...</td>\n",
       "      <td>-0.488234</td>\n",
       "      <td>-1.811937</td>\n",
       "      <td>0.563980</td>\n",
       "      <td>1.152395</td>\n",
       "      <td>-0.060437</td>\n",
       "      <td>-0.723646</td>\n",
       "      <td>0.529993</td>\n",
       "      <td>1.599007</td>\n",
       "      <td>-0.053172</td>\n",
       "      <td>0.581611</td>\n",
       "    </tr>\n",
       "    <tr>\n",
       "      <th>3</th>\n",
       "      <td>0.567497</td>\n",
       "      <td>0.313351</td>\n",
       "      <td>0.744730</td>\n",
       "      <td>-1.350541</td>\n",
       "      <td>-0.068053</td>\n",
       "      <td>0.588990</td>\n",
       "      <td>0.290120</td>\n",
       "      <td>0.229521</td>\n",
       "      <td>0.848661</td>\n",
       "      <td>0.546417</td>\n",
       "      <td>...</td>\n",
       "      <td>-0.130573</td>\n",
       "      <td>0.308947</td>\n",
       "      <td>-0.315620</td>\n",
       "      <td>-0.703337</td>\n",
       "      <td>0.499579</td>\n",
       "      <td>1.128113</td>\n",
       "      <td>-0.067667</td>\n",
       "      <td>0.086741</td>\n",
       "      <td>-0.861531</td>\n",
       "      <td>0.361497</td>\n",
       "    </tr>\n",
       "    <tr>\n",
       "      <th>4</th>\n",
       "      <td>-0.111258</td>\n",
       "      <td>-0.682838</td>\n",
       "      <td>-0.561106</td>\n",
       "      <td>-0.381560</td>\n",
       "      <td>0.540490</td>\n",
       "      <td>-1.115611</td>\n",
       "      <td>-1.473109</td>\n",
       "      <td>0.728398</td>\n",
       "      <td>-0.267222</td>\n",
       "      <td>0.238052</td>\n",
       "      <td>...</td>\n",
       "      <td>0.229635</td>\n",
       "      <td>1.522104</td>\n",
       "      <td>-0.325736</td>\n",
       "      <td>0.967692</td>\n",
       "      <td>0.919213</td>\n",
       "      <td>2.192081</td>\n",
       "      <td>-0.672942</td>\n",
       "      <td>-0.325374</td>\n",
       "      <td>-0.782994</td>\n",
       "      <td>0.662257</td>\n",
       "    </tr>\n",
       "  </tbody>\n",
       "</table>\n",
       "<p>5 rows × 1000 columns</p>\n",
       "</div>"
      ],
      "text/plain": [
       "   feat_000  feat_001  feat_002  feat_003  feat_004  feat_005  feat_006  \\\n",
       "0  0.371429  1.557665  0.088738 -0.568426  0.279411  0.553009 -2.263165   \n",
       "1 -0.044490 -1.042972  0.245990 -0.187297  1.355108 -0.086559 -0.409865   \n",
       "2  0.043489  0.440636  0.047697 -1.933592  1.219459  0.182951 -2.266318   \n",
       "3  0.567497  0.313351  0.744730 -1.350541 -0.068053  0.588990  0.290120   \n",
       "4 -0.111258 -0.682838 -0.561106 -0.381560  0.540490 -1.115611 -1.473109   \n",
       "\n",
       "   feat_007  feat_008  feat_009    ...     feat_990  feat_991  feat_992  \\\n",
       "0  0.322735 -0.770665 -0.489383    ...    -0.796701 -0.006892  0.504680   \n",
       "1 -0.156749 -0.388948  0.732151    ...     0.597574 -0.363377 -0.313348   \n",
       "2 -0.721327  0.510775  0.404986    ...    -0.488234 -1.811937  0.563980   \n",
       "3  0.229521  0.848661  0.546417    ...    -0.130573  0.308947 -0.315620   \n",
       "4  0.728398 -0.267222  0.238052    ...     0.229635  1.522104 -0.325736   \n",
       "\n",
       "   feat_993  feat_994  feat_995  feat_996  feat_997  feat_998  feat_999  \n",
       "0 -1.534529  0.120796  1.485370  0.481770  0.499728 -2.032250 -0.245348  \n",
       "1 -0.518927 -0.515884  0.345514 -0.140779 -0.113291  1.161730 -0.616847  \n",
       "2  1.152395 -0.060437 -0.723646  0.529993  1.599007 -0.053172  0.581611  \n",
       "3 -0.703337  0.499579  1.128113 -0.067667  0.086741 -0.861531  0.361497  \n",
       "4  0.967692  0.919213  2.192081 -0.672942 -0.325374 -0.782994  0.662257  \n",
       "\n",
       "[5 rows x 1000 columns]"
      ]
     },
     "execution_count": 19,
     "metadata": {},
     "output_type": "execute_result"
    }
   ],
   "source": [
    "cookX.head()"
   ]
  },
  {
   "cell_type": "code",
   "execution_count": 20,
   "metadata": {},
   "outputs": [
    {
     "data": {
      "text/plain": [
       "0    1\n",
       "1    0\n",
       "2    0\n",
       "3    1\n",
       "4    1\n",
       "Name: target, dtype: int64"
      ]
     },
     "execution_count": 20,
     "metadata": {},
     "output_type": "execute_result"
    }
   ],
   "source": [
    "cooky.head()"
   ]
  },
  {
   "cell_type": "code",
   "execution_count": 21,
   "metadata": {
    "collapsed": true
   },
   "outputs": [],
   "source": [
    "cookXtrain, cookXtest, cookytrain, cookytest = train_test_split(cookX, cooky, test_size=0.25, random_state=42)"
   ]
  },
  {
   "cell_type": "code",
   "execution_count": 22,
   "metadata": {},
   "outputs": [
    {
     "data": {
      "text/plain": [
       "(4950, 1000)"
      ]
     },
     "metadata": {},
     "output_type": "display_data"
    },
    {
     "data": {
      "text/plain": [
       "(1650, 1000)"
      ]
     },
     "metadata": {},
     "output_type": "display_data"
    },
    {
     "data": {
      "text/plain": [
       "(4950,)"
      ]
     },
     "metadata": {},
     "output_type": "display_data"
    },
    {
     "data": {
      "text/plain": [
       "(1650,)"
      ]
     },
     "metadata": {},
     "output_type": "display_data"
    }
   ],
   "source": [
    "display(cookXtrain.shape)\n",
    "display(cookXtest.shape)\n",
    "display(cookytrain.shape)\n",
    "display(cookytest.shape)"
   ]
  },
  {
   "cell_type": "markdown",
   "metadata": {},
   "source": [
    "### Feature Selection\n",
    "- The below Feature Selection pipelines will be setup in a manner using sklearn's `Pipeline` with named steps in order to also scale and deskew the data.\n",
    "    - The Scalers used will 1st be MinMaxScaler to transform the datapoints to be *greater than or equal to* 0\n",
    "    - The transfomed data will then be passed into a boxcox in order to remove skew from the data\n",
    "    - The deskewed data will be subsequently passed into yet another scaler (StandardScaler) to normalize the data and center the means on 0 with standard deviations of 1 for each feature.\n",
    "    \n",
    "    \n",
    "- The preprocessed data will then be passed into the various Feature Selection methods"
   ]
  },
  {
   "cell_type": "markdown",
   "metadata": {},
   "source": [
    "#### 1.  SelectKBest \n",
    "        "
   ]
  },
  {
   "cell_type": "markdown",
   "metadata": {},
   "source": [
    "##### UCI Madelon"
   ]
  },
  {
   "cell_type": "code",
   "execution_count": 23,
   "metadata": {
    "collapsed": true
   },
   "outputs": [],
   "source": [
    "selectk_pipe = Pipeline([\n",
    "    ('scaler', StandardScaler()),\n",
    "    ('select', SelectKBest(k=20))\n",
    "])"
   ]
  },
  {
   "cell_type": "code",
   "execution_count": 24,
   "metadata": {},
   "outputs": [
    {
     "data": {
      "text/plain": [
       "Pipeline(steps=[('scaler', StandardScaler(copy=True, with_mean=True, with_std=True)), ('select', SelectKBest(k=20, score_func=<function f_classif at 0x7f83a37df400>))])"
      ]
     },
     "execution_count": 24,
     "metadata": {},
     "output_type": "execute_result"
    }
   ],
   "source": [
    "selectk_pipe.fit(madelonXtrain, madelonytrain)"
   ]
  },
  {
   "cell_type": "code",
   "execution_count": 25,
   "metadata": {
    "scrolled": true
   },
   "outputs": [
    {
     "data": {
      "text/plain": [
       "500"
      ]
     },
     "execution_count": 25,
     "metadata": {},
     "output_type": "execute_result"
    }
   ],
   "source": [
    "feature_scores = (selectk_pipe.named_steps['select'].scores_)\n",
    "len(feature_scores)"
   ]
  },
  {
   "cell_type": "code",
   "execution_count": 26,
   "metadata": {},
   "outputs": [
    {
     "data": {
      "text/plain": [
       "array([ 4.32933558,  0.00986097,  1.48305392,  0.06718145,  0.65203681])"
      ]
     },
     "execution_count": 26,
     "metadata": {},
     "output_type": "execute_result"
    }
   ],
   "source": [
    "feature_scores[:5]"
   ]
  },
  {
   "cell_type": "code",
   "execution_count": 40,
   "metadata": {},
   "outputs": [],
   "source": [
    "madelon_feature_pvalues = list(zip(madelonXtrain.columns, selectk_pipe.named_steps['select'].pvalues_))"
   ]
  },
  {
   "cell_type": "code",
   "execution_count": 53,
   "metadata": {},
   "outputs": [
    {
     "data": {
      "text/plain": [
       "[(475, 1.4207424626682647e-07),\n",
       " (241, 2.513287266150833e-07),\n",
       " (64, 7.4376822979295423e-05),\n",
       " (336, 7.900880228032281e-05),\n",
       " (338, 0.00033614550511557934),\n",
       " (323, 0.00035255600738568095),\n",
       " (13, 0.0014051540695217857),\n",
       " (128, 0.0018552284053610804),\n",
       " (61, 0.0018625483804090746),\n",
       " (105, 0.0020585892068387549),\n",
       " (424, 0.0030438221842564867),\n",
       " (454, 0.0049093364152365988),\n",
       " (447, 0.0058280051832057212),\n",
       " (59, 0.006058028631651796),\n",
       " (226, 0.006620621419516806),\n",
       " (190, 0.0082570890085381307),\n",
       " (248, 0.0094222708901385965),\n",
       " (299, 0.0096420020301334741),\n",
       " (238, 0.010145463174096191),\n",
       " (222, 0.010630647456117638)]"
      ]
     },
     "execution_count": 53,
     "metadata": {},
     "output_type": "execute_result"
    }
   ],
   "source": [
    "madelon_top20_feat_pvalues = sorted(madelon_feature_pvalues, key=lambda x: x[1])[:20]\n",
    "madelon_top20_feat_pvalues"
   ]
  },
  {
   "cell_type": "code",
   "execution_count": 83,
   "metadata": {
    "collapsed": true
   },
   "outputs": [],
   "source": [
    "madelon_top20_pvalue_indices = [(x[0]) for x in madelon_top20_feat_pvalues]\n",
    "madelon_top20_pvalues = [x[1] for x in madelon_top20_feat_pvalues]"
   ]
  },
  {
   "cell_type": "code",
   "execution_count": 86,
   "metadata": {},
   "outputs": [
    {
     "data": {
      "image/png": "[encoded data removed]",
      "text/plain": [
       "<matplotlib.figure.Figure at 0x7f8392b5b390>"
      ]
     },
     "metadata": {},
     "output_type": "display_data"
    }
   ],
   "source": [
    "plt.figure(figsize=(15,7))\n",
    "plt.bar(left=[i for i in range(20)], height=madelon_top20_pvalues)\n",
    "plt.xlabel('Features', size=15)\n",
    "plt.ylabel('p-values', size=15)\n",
    "plt.title('Top p-value Scores from SelectKBest', size=20)\n",
    "plt.show()"
   ]
  },
  {
   "cell_type": "markdown",
   "metadata": {},
   "source": [
    "Build a dataframe to hold the selected features from each method"
   ]
  },
  {
   "cell_type": "code",
   "execution_count": 26,
   "metadata": {
    "collapsed": true
   },
   "outputs": [],
   "source": [
    "chosen_feat = pd.DataFrame()\n",
    "chosen_feat['SKB-UCI'] = [x[0] for x in sorted(top20_selectk_feat)]"
   ]
  },
  {
   "cell_type": "markdown",
   "metadata": {},
   "source": [
    "##### Cook-Madelon"
   ]
  },
  {
   "cell_type": "code",
   "execution_count": 27,
   "metadata": {
    "scrolled": true
   },
   "outputs": [
    {
     "data": {
      "text/plain": [
       "Pipeline(steps=[('scaler', StandardScaler(copy=True, with_mean=True, with_std=True)), ('select', SelectKBest(k=20, score_func=<function f_classif at 0x7f0c4ec92b70>))])"
      ]
     },
     "execution_count": 27,
     "metadata": {},
     "output_type": "execute_result"
    }
   ],
   "source": [
    "selectk_pipe.fit(cookXtrain, cookytrain)"
   ]
  },
  {
   "cell_type": "code",
   "execution_count": 28,
   "metadata": {
    "scrolled": false
   },
   "outputs": [
    {
     "data": {
      "text/plain": [
       "[(269, 250.89873899248039),\n",
       " (681, 193.30342738846835),\n",
       " (701, 164.4796508996005),\n",
       " (920, 152.9958832625789),\n",
       " (341, 86.067745296405775),\n",
       " (769, 73.818720208622196),\n",
       " (829, 71.885999087541904),\n",
       " (315, 62.704548313671197),\n",
       " (808, 43.558646530438402),\n",
       " (867, 37.121069387931804),\n",
       " (504, 25.598766155759449),\n",
       " (736, 21.556972174761956),\n",
       " (724, 15.12394951599455),\n",
       " (308, 13.452447855520001),\n",
       " (526, 13.181088922561033),\n",
       " (336, 13.020231201724158),\n",
       " (342, 11.418255202027174),\n",
       " (577, 10.388985531381943),\n",
       " (257, 9.2108770328108776),\n",
       " (391, 9.1437954717579419)]"
      ]
     },
     "execution_count": 28,
     "metadata": {},
     "output_type": "execute_result"
    }
   ],
   "source": [
    "top20_selectk_cookfeat = sorted(enumerate(selectk_pipe.named_steps['select'].scores_), key=lambda x: x[1], \\\n",
    "                                reverse=True)[:20]\n",
    "top20_selectk_cookfeat"
   ]
  },
  {
   "cell_type": "code",
   "execution_count": 29,
   "metadata": {},
   "outputs": [
    {
     "data": {
      "text/html": [
       "<div>\n",
       "<table border=\"1\" class=\"dataframe\">\n",
       "  <thead>\n",
       "    <tr style=\"text-align: right;\">\n",
       "      <th></th>\n",
       "      <th>SKB-UCI</th>\n",
       "      <th>SKB-Cook</th>\n",
       "    </tr>\n",
       "  </thead>\n",
       "  <tbody>\n",
       "    <tr>\n",
       "      <th>0</th>\n",
       "      <td>13</td>\n",
       "      <td>257</td>\n",
       "    </tr>\n",
       "    <tr>\n",
       "      <th>1</th>\n",
       "      <td>59</td>\n",
       "      <td>269</td>\n",
       "    </tr>\n",
       "    <tr>\n",
       "      <th>2</th>\n",
       "      <td>61</td>\n",
       "      <td>308</td>\n",
       "    </tr>\n",
       "    <tr>\n",
       "      <th>3</th>\n",
       "      <td>64</td>\n",
       "      <td>315</td>\n",
       "    </tr>\n",
       "    <tr>\n",
       "      <th>4</th>\n",
       "      <td>105</td>\n",
       "      <td>336</td>\n",
       "    </tr>\n",
       "  </tbody>\n",
       "</table>\n",
       "</div>"
      ],
      "text/plain": [
       "   SKB-UCI  SKB-Cook\n",
       "0       13       257\n",
       "1       59       269\n",
       "2       61       308\n",
       "3       64       315\n",
       "4      105       336"
      ]
     },
     "execution_count": 29,
     "metadata": {},
     "output_type": "execute_result"
    }
   ],
   "source": [
    "chosen_feat['SKB-Cook'] = [x[0] for x in sorted(top20_selectk_cookfeat, key=lambda x: x[0])]\n",
    "chosen_feat.head()"
   ]
  },
  {
   "cell_type": "markdown",
   "metadata": {},
   "source": [
    "#### 2. SelectFromModel(LogisticRegression)\n",
    "        "
   ]
  },
  {
   "cell_type": "code",
   "execution_count": 30,
   "metadata": {
    "collapsed": true
   },
   "outputs": [],
   "source": [
    "sfm_logreg_pipe = Pipeline([\n",
    "    ('scaler', StandardScaler()),\n",
    "    ('sfmlogreg', SelectFromModel(LogisticRegression(penalty='l1', C=0.0375, n_jobs=-1, random_state=42)))\n",
    "])"
   ]
  },
  {
   "cell_type": "markdown",
   "metadata": {},
   "source": [
    "##### UCI Madelon"
   ]
  },
  {
   "cell_type": "code",
   "execution_count": 31,
   "metadata": {
    "scrolled": true
   },
   "outputs": [
    {
     "data": {
      "text/plain": [
       "Pipeline(steps=[('scaler', StandardScaler(copy=True, with_mean=True, with_std=True)), ('sfmlogreg', SelectFromModel(estimator=LogisticRegression(C=0.0375, class_weight=None, dual=False,\n",
       "          fit_intercept=True, intercept_scaling=1, max_iter=100,\n",
       "          multi_class='ovr', n_jobs=-1, penalty='l1', random_state=42,\n",
       "          solver='liblinear', tol=0.0001, verbose=0, warm_start=False),\n",
       "        prefit=False, threshold=None))])"
      ]
     },
     "execution_count": 31,
     "metadata": {},
     "output_type": "execute_result"
    }
   ],
   "source": [
    "sfm_logreg_pipe.fit(madelonXtrain, madelonytrain)"
   ]
  },
  {
   "cell_type": "code",
   "execution_count": 32,
   "metadata": {
    "collapsed": true,
    "scrolled": true
   },
   "outputs": [],
   "source": [
    "top20_sfmlogreg_uci = madelonXtrain.columns[sfm_logreg_pipe.named_steps['sfmlogreg'].get_support()][:20]\n",
    "chosen_feat['SFM-LogReg-UCI'] = top20_sfmlogreg_uci"
   ]
  },
  {
   "cell_type": "code",
   "execution_count": 33,
   "metadata": {
    "scrolled": true
   },
   "outputs": [
    {
     "data": {
      "text/html": [
       "<div>\n",
       "<table border=\"1\" class=\"dataframe\">\n",
       "  <thead>\n",
       "    <tr style=\"text-align: right;\">\n",
       "      <th></th>\n",
       "      <th>SKB-UCI</th>\n",
       "      <th>SKB-Cook</th>\n",
       "      <th>SFM-LogReg-UCI</th>\n",
       "    </tr>\n",
       "  </thead>\n",
       "  <tbody>\n",
       "    <tr>\n",
       "      <th>0</th>\n",
       "      <td>13</td>\n",
       "      <td>257</td>\n",
       "      <td>13</td>\n",
       "    </tr>\n",
       "    <tr>\n",
       "      <th>1</th>\n",
       "      <td>59</td>\n",
       "      <td>269</td>\n",
       "      <td>15</td>\n",
       "    </tr>\n",
       "    <tr>\n",
       "      <th>2</th>\n",
       "      <td>61</td>\n",
       "      <td>308</td>\n",
       "      <td>44</td>\n",
       "    </tr>\n",
       "    <tr>\n",
       "      <th>3</th>\n",
       "      <td>64</td>\n",
       "      <td>315</td>\n",
       "      <td>59</td>\n",
       "    </tr>\n",
       "    <tr>\n",
       "      <th>4</th>\n",
       "      <td>105</td>\n",
       "      <td>336</td>\n",
       "      <td>61</td>\n",
       "    </tr>\n",
       "  </tbody>\n",
       "</table>\n",
       "</div>"
      ],
      "text/plain": [
       "   SKB-UCI  SKB-Cook  SFM-LogReg-UCI\n",
       "0       13       257              13\n",
       "1       59       269              15\n",
       "2       61       308              44\n",
       "3       64       315              59\n",
       "4      105       336              61"
      ]
     },
     "execution_count": 33,
     "metadata": {},
     "output_type": "execute_result"
    }
   ],
   "source": [
    "chosen_feat.head()"
   ]
  },
  {
   "cell_type": "markdown",
   "metadata": {},
   "source": [
    "##### Cook Madelon"
   ]
  },
  {
   "cell_type": "code",
   "execution_count": 34,
   "metadata": {
    "collapsed": true
   },
   "outputs": [],
   "source": [
    "sfm_logreg_pipe_cook = Pipeline([\n",
    "    ('scaler', StandardScaler()),\n",
    "    ('sfmlogreg', SelectFromModel(LogisticRegression(penalty='l1', C=0.01145, n_jobs=-1, random_state=42)))\n",
    "])"
   ]
  },
  {
   "cell_type": "code",
   "execution_count": 35,
   "metadata": {
    "scrolled": true
   },
   "outputs": [
    {
     "data": {
      "text/plain": [
       "Pipeline(steps=[('scaler', StandardScaler(copy=True, with_mean=True, with_std=True)), ('sfmlogreg', SelectFromModel(estimator=LogisticRegression(C=0.01145, class_weight=None, dual=False,\n",
       "          fit_intercept=True, intercept_scaling=1, max_iter=100,\n",
       "          multi_class='ovr', n_jobs=-1, penalty='l1', random_state=42,\n",
       "          solver='liblinear', tol=0.0001, verbose=0, warm_start=False),\n",
       "        prefit=False, threshold=None))])"
      ]
     },
     "execution_count": 35,
     "metadata": {},
     "output_type": "execute_result"
    }
   ],
   "source": [
    "sfm_logreg_pipe_cook.fit(cookXtrain, cookytrain)"
   ]
  },
  {
   "cell_type": "code",
   "execution_count": 36,
   "metadata": {
    "scrolled": false
   },
   "outputs": [
    {
     "data": {
      "text/plain": [
       "Index(['feat_029', 'feat_155', 'feat_269', 'feat_342', 'feat_369', 'feat_391',\n",
       "       'feat_398', 'feat_452', 'feat_471', 'feat_577', 'feat_681', 'feat_694',\n",
       "       'feat_705', 'feat_743', 'feat_754', 'feat_808', 'feat_829', 'feat_832',\n",
       "       'feat_878', 'feat_920'],\n",
       "      dtype='object')"
      ]
     },
     "execution_count": 36,
     "metadata": {},
     "output_type": "execute_result"
    }
   ],
   "source": [
    "top20cook_sfmlogreg_feat = cookXtrain.columns[sfm_logreg_pipe_cook.named_steps['sfmlogreg'].get_support()][:20]\n",
    "top20cook_sfmlogreg_feat"
   ]
  },
  {
   "cell_type": "code",
   "execution_count": 37,
   "metadata": {},
   "outputs": [
    {
     "data": {
      "text/plain": [
       "str"
      ]
     },
     "execution_count": 37,
     "metadata": {},
     "output_type": "execute_result"
    }
   ],
   "source": [
    "type(top20cook_sfmlogreg_feat[0])"
   ]
  },
  {
   "cell_type": "code",
   "execution_count": 38,
   "metadata": {},
   "outputs": [
    {
     "data": {
      "text/html": [
       "<div>\n",
       "<table border=\"1\" class=\"dataframe\">\n",
       "  <thead>\n",
       "    <tr style=\"text-align: right;\">\n",
       "      <th></th>\n",
       "      <th>SKB-UCI</th>\n",
       "      <th>SKB-Cook</th>\n",
       "      <th>SFM-LogReg-UCI</th>\n",
       "      <th>SFM-LogReg-Cook</th>\n",
       "    </tr>\n",
       "  </thead>\n",
       "  <tbody>\n",
       "    <tr>\n",
       "      <th>0</th>\n",
       "      <td>13</td>\n",
       "      <td>257</td>\n",
       "      <td>13</td>\n",
       "      <td>29</td>\n",
       "    </tr>\n",
       "    <tr>\n",
       "      <th>1</th>\n",
       "      <td>59</td>\n",
       "      <td>269</td>\n",
       "      <td>15</td>\n",
       "      <td>55</td>\n",
       "    </tr>\n",
       "    <tr>\n",
       "      <th>2</th>\n",
       "      <td>61</td>\n",
       "      <td>308</td>\n",
       "      <td>44</td>\n",
       "      <td>69</td>\n",
       "    </tr>\n",
       "    <tr>\n",
       "      <th>3</th>\n",
       "      <td>64</td>\n",
       "      <td>315</td>\n",
       "      <td>59</td>\n",
       "      <td>42</td>\n",
       "    </tr>\n",
       "    <tr>\n",
       "      <th>4</th>\n",
       "      <td>105</td>\n",
       "      <td>336</td>\n",
       "      <td>61</td>\n",
       "      <td>69</td>\n",
       "    </tr>\n",
       "  </tbody>\n",
       "</table>\n",
       "</div>"
      ],
      "text/plain": [
       "   SKB-UCI  SKB-Cook  SFM-LogReg-UCI  SFM-LogReg-Cook\n",
       "0       13       257              13               29\n",
       "1       59       269              15               55\n",
       "2       61       308              44               69\n",
       "3       64       315              59               42\n",
       "4      105       336              61               69"
      ]
     },
     "execution_count": 38,
     "metadata": {},
     "output_type": "execute_result"
    }
   ],
   "source": [
    "chosen_feat['SFM-LogReg-Cook']=[int(x[6:]) for x in top20cook_sfmlogreg_feat]\n",
    "chosen_feat.head()"
   ]
  },
  {
   "cell_type": "markdown",
   "metadata": {},
   "source": [
    "#### 3. Recursive Feature Eliminator (LogisticRegression)\n",
    "       "
   ]
  },
  {
   "cell_type": "code",
   "execution_count": 62,
   "metadata": {
    "collapsed": true
   },
   "outputs": [],
   "source": [
    "rfe_logreg_pipe = Pipeline([\n",
    "    ('scaler', StandardScaler()),\n",
    "    ('rfelogreg', RFE(LogisticRegression(penalty='l1', C=0.1, n_jobs=-1, random_state=42), n_features_to_select=20))\n",
    "])"
   ]
  },
  {
   "cell_type": "markdown",
   "metadata": {},
   "source": [
    "##### UCI Madelon"
   ]
  },
  {
   "cell_type": "code",
   "execution_count": 63,
   "metadata": {},
   "outputs": [
    {
     "data": {
      "text/plain": [
       "Pipeline(steps=[('scaler', StandardScaler(copy=True, with_mean=True, with_std=True)), ('rfelogreg', RFE(estimator=LogisticRegression(C=0.1, class_weight=None, dual=False, fit_intercept=True,\n",
       "          intercept_scaling=1, max_iter=100, multi_class='ovr', n_jobs=-1,\n",
       "          penalty='l1', random_state=42, solver='liblinear', tol=0.0001,\n",
       "          verbose=0, warm_start=False),\n",
       "  n_features_to_select=20, step=1, verbose=0))])"
      ]
     },
     "execution_count": 63,
     "metadata": {},
     "output_type": "execute_result"
    }
   ],
   "source": [
    "rfe_logreg_pipe.fit(madelonXtrain, madelonytrain)"
   ]
  },
  {
   "cell_type": "code",
   "execution_count": 66,
   "metadata": {
    "scrolled": true
   },
   "outputs": [
    {
     "data": {
      "text/html": [
       "<div>\n",
       "<table border=\"1\" class=\"dataframe\">\n",
       "  <thead>\n",
       "    <tr style=\"text-align: right;\">\n",
       "      <th></th>\n",
       "      <th>SKB-UCI</th>\n",
       "      <th>SKB-Cook</th>\n",
       "      <th>SFM-LogReg-UCI</th>\n",
       "      <th>SFM-LogReg-Cook</th>\n",
       "      <th>RFE-LogReg-UCI</th>\n",
       "    </tr>\n",
       "  </thead>\n",
       "  <tbody>\n",
       "    <tr>\n",
       "      <th>0</th>\n",
       "      <td>13</td>\n",
       "      <td>257</td>\n",
       "      <td>13</td>\n",
       "      <td>29</td>\n",
       "      <td>0</td>\n",
       "    </tr>\n",
       "    <tr>\n",
       "      <th>1</th>\n",
       "      <td>59</td>\n",
       "      <td>269</td>\n",
       "      <td>15</td>\n",
       "      <td>55</td>\n",
       "      <td>13</td>\n",
       "    </tr>\n",
       "    <tr>\n",
       "      <th>2</th>\n",
       "      <td>61</td>\n",
       "      <td>308</td>\n",
       "      <td>44</td>\n",
       "      <td>69</td>\n",
       "      <td>44</td>\n",
       "    </tr>\n",
       "    <tr>\n",
       "      <th>3</th>\n",
       "      <td>64</td>\n",
       "      <td>315</td>\n",
       "      <td>59</td>\n",
       "      <td>42</td>\n",
       "      <td>59</td>\n",
       "    </tr>\n",
       "    <tr>\n",
       "      <th>4</th>\n",
       "      <td>105</td>\n",
       "      <td>336</td>\n",
       "      <td>61</td>\n",
       "      <td>69</td>\n",
       "      <td>61</td>\n",
       "    </tr>\n",
       "  </tbody>\n",
       "</table>\n",
       "</div>"
      ],
      "text/plain": [
       "   SKB-UCI  SKB-Cook  SFM-LogReg-UCI  SFM-LogReg-Cook  RFE-LogReg-UCI\n",
       "0       13       257              13               29               0\n",
       "1       59       269              15               55              13\n",
       "2       61       308              44               69              44\n",
       "3       64       315              59               42              59\n",
       "4      105       336              61               69              61"
      ]
     },
     "execution_count": 66,
     "metadata": {},
     "output_type": "execute_result"
    }
   ],
   "source": [
    "chosen_feat['RFE-LogReg-UCI']= madelonXtrain.columns[rfe_logreg_pipe.named_steps['rfelogreg'].get_support()]\n",
    "chosen_feat.head()"
   ]
  },
  {
   "cell_type": "markdown",
   "metadata": {},
   "source": [
    "##### Cook Madelon"
   ]
  },
  {
   "cell_type": "code",
   "execution_count": 67,
   "metadata": {},
   "outputs": [
    {
     "data": {
      "text/plain": [
       "Pipeline(steps=[('scaler', StandardScaler(copy=True, with_mean=True, with_std=True)), ('rfelogreg', RFE(estimator=LogisticRegression(C=0.1, class_weight=None, dual=False, fit_intercept=True,\n",
       "          intercept_scaling=1, max_iter=100, multi_class='ovr', n_jobs=-1,\n",
       "          penalty='l1', random_state=42, solver='liblinear', tol=0.0001,\n",
       "          verbose=0, warm_start=False),\n",
       "  n_features_to_select=20, step=1, verbose=0))])"
      ]
     },
     "execution_count": 67,
     "metadata": {},
     "output_type": "execute_result"
    }
   ],
   "source": [
    "rfe_logreg_pipe.fit(cookXtrain, cookytrain)"
   ]
  },
  {
   "cell_type": "code",
   "execution_count": 72,
   "metadata": {
    "collapsed": true,
    "scrolled": true
   },
   "outputs": [],
   "source": [
    "top20_rfe_cook_feat = cookXtrain.columns[rfe_logreg_pipe.named_steps['rfelogreg'].get_support()]"
   ]
  },
  {
   "cell_type": "code",
   "execution_count": 74,
   "metadata": {},
   "outputs": [
    {
     "data": {
      "text/plain": [
       "[55, 69, 42, 69, 91, 98, 52, 71, 47, 77, 81, 94, 5, 43, 84, 8, 32, 78, 20, 37]"
      ]
     },
     "execution_count": 74,
     "metadata": {},
     "output_type": "execute_result"
    }
   ],
   "source": [
    "top20_cook_feat_rfelogreg = [int(x[6:]) for x in top20_rfe_cook_feat]\n",
    "top20_cook_feat_rfelogreg"
   ]
  },
  {
   "cell_type": "code",
   "execution_count": 87,
   "metadata": {
    "collapsed": true
   },
   "outputs": [],
   "source": [
    "chosen_feat['RFE-LogReg-Cook'] = sorted(top20_cook_feat_rfelogreg)"
   ]
  },
  {
   "cell_type": "markdown",
   "metadata": {},
   "source": [
    "### Compare the Most Frequent Features to the 20 Features Extracted in Notebook 2"
   ]
  },
  {
   "cell_type": "code",
   "execution_count": 90,
   "metadata": {
    "collapsed": true
   },
   "outputs": [],
   "source": [
    "UCI_feat_extracted =[28, 48, 64, 105, 128, 153, 241, 281, 318, 336, 338, 378, 433, 442, 451, 453, 455, 472, 475, 493]"
   ]
  },
  {
   "cell_type": "code",
   "execution_count": 91,
   "metadata": {
    "collapsed": true
   },
   "outputs": [],
   "source": [
    "cook_feat_extracted = [257, 269, 308, 315, 336, 341, 395, 504, 526, 639, 681, 701, 724, 736, 769, 808, 829, 867, 920, 956]"
   ]
  },
  {
   "cell_type": "code",
   "execution_count": 92,
   "metadata": {
    "collapsed": true
   },
   "outputs": [],
   "source": [
    "chosen_feat['UCI-Feat-Extracted'] = UCI_feat_extracted\n",
    "chosen_feat['Cook-Feat-Extracted'] = cook_feat_extracted"
   ]
  },
  {
   "cell_type": "code",
   "execution_count": 139,
   "metadata": {
    "scrolled": false
   },
   "outputs": [
    {
     "data": {
      "text/html": [
       "<div>\n",
       "<table border=\"1\" class=\"dataframe\">\n",
       "  <thead>\n",
       "    <tr style=\"text-align: right;\">\n",
       "      <th></th>\n",
       "      <th>SKB-UCI</th>\n",
       "      <th>SKB-Cook</th>\n",
       "      <th>SFM-LogReg-UCI</th>\n",
       "      <th>SFM-LogReg-Cook</th>\n",
       "      <th>RFE-LogReg-UCI</th>\n",
       "      <th>RFE-LogReg-Cook</th>\n",
       "      <th>UCI-Feat-Extracted</th>\n",
       "      <th>Cook-Feat-Extracted</th>\n",
       "    </tr>\n",
       "  </thead>\n",
       "  <tbody>\n",
       "    <tr>\n",
       "      <th>0</th>\n",
       "      <td>13</td>\n",
       "      <td>257</td>\n",
       "      <td>13</td>\n",
       "      <td>29</td>\n",
       "      <td>0</td>\n",
       "      <td>5</td>\n",
       "      <td>28</td>\n",
       "      <td>257</td>\n",
       "    </tr>\n",
       "    <tr>\n",
       "      <th>1</th>\n",
       "      <td>59</td>\n",
       "      <td>269</td>\n",
       "      <td>15</td>\n",
       "      <td>55</td>\n",
       "      <td>13</td>\n",
       "      <td>8</td>\n",
       "      <td>48</td>\n",
       "      <td>269</td>\n",
       "    </tr>\n",
       "    <tr>\n",
       "      <th>2</th>\n",
       "      <td>61</td>\n",
       "      <td>308</td>\n",
       "      <td>44</td>\n",
       "      <td>69</td>\n",
       "      <td>44</td>\n",
       "      <td>20</td>\n",
       "      <td>64</td>\n",
       "      <td>308</td>\n",
       "    </tr>\n",
       "    <tr>\n",
       "      <th>3</th>\n",
       "      <td>64</td>\n",
       "      <td>315</td>\n",
       "      <td>59</td>\n",
       "      <td>42</td>\n",
       "      <td>59</td>\n",
       "      <td>32</td>\n",
       "      <td>105</td>\n",
       "      <td>315</td>\n",
       "    </tr>\n",
       "    <tr>\n",
       "      <th>4</th>\n",
       "      <td>105</td>\n",
       "      <td>336</td>\n",
       "      <td>61</td>\n",
       "      <td>69</td>\n",
       "      <td>61</td>\n",
       "      <td>37</td>\n",
       "      <td>128</td>\n",
       "      <td>336</td>\n",
       "    </tr>\n",
       "  </tbody>\n",
       "</table>\n",
       "</div>"
      ],
      "text/plain": [
       "   SKB-UCI  SKB-Cook  SFM-LogReg-UCI  SFM-LogReg-Cook  RFE-LogReg-UCI  \\\n",
       "0       13       257              13               29               0   \n",
       "1       59       269              15               55              13   \n",
       "2       61       308              44               69              44   \n",
       "3       64       315              59               42              59   \n",
       "4      105       336              61               69              61   \n",
       "\n",
       "   RFE-LogReg-Cook  UCI-Feat-Extracted  Cook-Feat-Extracted  \n",
       "0                5                  28                  257  \n",
       "1                8                  48                  269  \n",
       "2               20                  64                  308  \n",
       "3               32                 105                  315  \n",
       "4               37                 128                  336  "
      ]
     },
     "execution_count": 139,
     "metadata": {},
     "output_type": "execute_result"
    }
   ],
   "source": [
    "chosen_feat.head()"
   ]
  },
  {
   "cell_type": "markdown",
   "metadata": {},
   "source": [
    "**Need to split of Cook features from UCI features given the different feature selection methods.**"
   ]
  },
  {
   "cell_type": "code",
   "execution_count": 140,
   "metadata": {
    "collapsed": true
   },
   "outputs": [],
   "source": [
    "cook_chosen_feat_df = chosen_feat[['SKB-Cook', 'SFM-LogReg-Cook', 'RFE-LogReg-Cook', 'Cook-Feat-Extracted']]\n",
    "uci_chosen_feat_df = chosen_feat[['SKB-UCI', 'SFM-LogReg-UCI', 'RFE-LogReg-UCI', 'UCI-Feat-Extracted']]"
   ]
  },
  {
   "cell_type": "code",
   "execution_count": 152,
   "metadata": {},
   "outputs": [
    {
     "data": {
      "text/html": [
       "<div>\n",
       "<table border=\"1\" class=\"dataframe\">\n",
       "  <thead>\n",
       "    <tr style=\"text-align: right;\">\n",
       "      <th></th>\n",
       "      <th>SKB-Cook</th>\n",
       "      <th>SFM-LogReg-Cook</th>\n",
       "      <th>RFE-LogReg-Cook</th>\n",
       "      <th>Cook-Feat-Extracted</th>\n",
       "    </tr>\n",
       "  </thead>\n",
       "  <tbody>\n",
       "    <tr>\n",
       "      <th>0</th>\n",
       "      <td>257</td>\n",
       "      <td>29</td>\n",
       "      <td>5</td>\n",
       "      <td>257</td>\n",
       "    </tr>\n",
       "    <tr>\n",
       "      <th>1</th>\n",
       "      <td>269</td>\n",
       "      <td>55</td>\n",
       "      <td>8</td>\n",
       "      <td>269</td>\n",
       "    </tr>\n",
       "    <tr>\n",
       "      <th>2</th>\n",
       "      <td>308</td>\n",
       "      <td>69</td>\n",
       "      <td>20</td>\n",
       "      <td>308</td>\n",
       "    </tr>\n",
       "    <tr>\n",
       "      <th>3</th>\n",
       "      <td>315</td>\n",
       "      <td>42</td>\n",
       "      <td>32</td>\n",
       "      <td>315</td>\n",
       "    </tr>\n",
       "    <tr>\n",
       "      <th>4</th>\n",
       "      <td>336</td>\n",
       "      <td>69</td>\n",
       "      <td>37</td>\n",
       "      <td>336</td>\n",
       "    </tr>\n",
       "    <tr>\n",
       "      <th>5</th>\n",
       "      <td>341</td>\n",
       "      <td>91</td>\n",
       "      <td>42</td>\n",
       "      <td>341</td>\n",
       "    </tr>\n",
       "    <tr>\n",
       "      <th>6</th>\n",
       "      <td>342</td>\n",
       "      <td>98</td>\n",
       "      <td>43</td>\n",
       "      <td>395</td>\n",
       "    </tr>\n",
       "    <tr>\n",
       "      <th>7</th>\n",
       "      <td>391</td>\n",
       "      <td>52</td>\n",
       "      <td>47</td>\n",
       "      <td>504</td>\n",
       "    </tr>\n",
       "    <tr>\n",
       "      <th>8</th>\n",
       "      <td>504</td>\n",
       "      <td>71</td>\n",
       "      <td>52</td>\n",
       "      <td>526</td>\n",
       "    </tr>\n",
       "    <tr>\n",
       "      <th>9</th>\n",
       "      <td>526</td>\n",
       "      <td>77</td>\n",
       "      <td>55</td>\n",
       "      <td>639</td>\n",
       "    </tr>\n",
       "    <tr>\n",
       "      <th>10</th>\n",
       "      <td>577</td>\n",
       "      <td>81</td>\n",
       "      <td>69</td>\n",
       "      <td>681</td>\n",
       "    </tr>\n",
       "    <tr>\n",
       "      <th>11</th>\n",
       "      <td>681</td>\n",
       "      <td>94</td>\n",
       "      <td>69</td>\n",
       "      <td>701</td>\n",
       "    </tr>\n",
       "    <tr>\n",
       "      <th>12</th>\n",
       "      <td>701</td>\n",
       "      <td>5</td>\n",
       "      <td>71</td>\n",
       "      <td>724</td>\n",
       "    </tr>\n",
       "    <tr>\n",
       "      <th>13</th>\n",
       "      <td>724</td>\n",
       "      <td>43</td>\n",
       "      <td>77</td>\n",
       "      <td>736</td>\n",
       "    </tr>\n",
       "    <tr>\n",
       "      <th>14</th>\n",
       "      <td>736</td>\n",
       "      <td>54</td>\n",
       "      <td>78</td>\n",
       "      <td>769</td>\n",
       "    </tr>\n",
       "    <tr>\n",
       "      <th>15</th>\n",
       "      <td>769</td>\n",
       "      <td>8</td>\n",
       "      <td>81</td>\n",
       "      <td>808</td>\n",
       "    </tr>\n",
       "    <tr>\n",
       "      <th>16</th>\n",
       "      <td>808</td>\n",
       "      <td>29</td>\n",
       "      <td>84</td>\n",
       "      <td>829</td>\n",
       "    </tr>\n",
       "    <tr>\n",
       "      <th>17</th>\n",
       "      <td>829</td>\n",
       "      <td>32</td>\n",
       "      <td>91</td>\n",
       "      <td>867</td>\n",
       "    </tr>\n",
       "    <tr>\n",
       "      <th>18</th>\n",
       "      <td>867</td>\n",
       "      <td>78</td>\n",
       "      <td>94</td>\n",
       "      <td>920</td>\n",
       "    </tr>\n",
       "    <tr>\n",
       "      <th>19</th>\n",
       "      <td>920</td>\n",
       "      <td>20</td>\n",
       "      <td>98</td>\n",
       "      <td>956</td>\n",
       "    </tr>\n",
       "  </tbody>\n",
       "</table>\n",
       "</div>"
      ],
      "text/plain": [
       "    SKB-Cook  SFM-LogReg-Cook  RFE-LogReg-Cook  Cook-Feat-Extracted\n",
       "0        257               29                5                  257\n",
       "1        269               55                8                  269\n",
       "2        308               69               20                  308\n",
       "3        315               42               32                  315\n",
       "4        336               69               37                  336\n",
       "5        341               91               42                  341\n",
       "6        342               98               43                  395\n",
       "7        391               52               47                  504\n",
       "8        504               71               52                  526\n",
       "9        526               77               55                  639\n",
       "10       577               81               69                  681\n",
       "11       681               94               69                  701\n",
       "12       701                5               71                  724\n",
       "13       724               43               77                  736\n",
       "14       736               54               78                  769\n",
       "15       769                8               81                  808\n",
       "16       808               29               84                  829\n",
       "17       829               32               91                  867\n",
       "18       867               78               94                  920\n",
       "19       920               20               98                  956"
      ]
     },
     "execution_count": 152,
     "metadata": {},
     "output_type": "execute_result"
    }
   ],
   "source": [
    "cook_chosen_feat_df"
   ]
  },
  {
   "cell_type": "code",
   "execution_count": 153,
   "metadata": {},
   "outputs": [
    {
     "data": {
      "text/html": [
       "<div>\n",
       "<table border=\"1\" class=\"dataframe\">\n",
       "  <thead>\n",
       "    <tr style=\"text-align: right;\">\n",
       "      <th></th>\n",
       "      <th>SKB-UCI</th>\n",
       "      <th>SFM-LogReg-UCI</th>\n",
       "      <th>RFE-LogReg-UCI</th>\n",
       "      <th>UCI-Feat-Extracted</th>\n",
       "    </tr>\n",
       "  </thead>\n",
       "  <tbody>\n",
       "    <tr>\n",
       "      <th>0</th>\n",
       "      <td>13</td>\n",
       "      <td>13</td>\n",
       "      <td>0</td>\n",
       "      <td>28</td>\n",
       "    </tr>\n",
       "    <tr>\n",
       "      <th>1</th>\n",
       "      <td>59</td>\n",
       "      <td>15</td>\n",
       "      <td>13</td>\n",
       "      <td>48</td>\n",
       "    </tr>\n",
       "    <tr>\n",
       "      <th>2</th>\n",
       "      <td>61</td>\n",
       "      <td>44</td>\n",
       "      <td>44</td>\n",
       "      <td>64</td>\n",
       "    </tr>\n",
       "    <tr>\n",
       "      <th>3</th>\n",
       "      <td>64</td>\n",
       "      <td>59</td>\n",
       "      <td>59</td>\n",
       "      <td>105</td>\n",
       "    </tr>\n",
       "    <tr>\n",
       "      <th>4</th>\n",
       "      <td>105</td>\n",
       "      <td>61</td>\n",
       "      <td>61</td>\n",
       "      <td>128</td>\n",
       "    </tr>\n",
       "    <tr>\n",
       "      <th>5</th>\n",
       "      <td>128</td>\n",
       "      <td>120</td>\n",
       "      <td>120</td>\n",
       "      <td>153</td>\n",
       "    </tr>\n",
       "    <tr>\n",
       "      <th>6</th>\n",
       "      <td>190</td>\n",
       "      <td>149</td>\n",
       "      <td>149</td>\n",
       "      <td>241</td>\n",
       "    </tr>\n",
       "    <tr>\n",
       "      <th>7</th>\n",
       "      <td>222</td>\n",
       "      <td>157</td>\n",
       "      <td>157</td>\n",
       "      <td>281</td>\n",
       "    </tr>\n",
       "    <tr>\n",
       "      <th>8</th>\n",
       "      <td>226</td>\n",
       "      <td>190</td>\n",
       "      <td>199</td>\n",
       "      <td>318</td>\n",
       "    </tr>\n",
       "    <tr>\n",
       "      <th>9</th>\n",
       "      <td>238</td>\n",
       "      <td>222</td>\n",
       "      <td>226</td>\n",
       "      <td>336</td>\n",
       "    </tr>\n",
       "    <tr>\n",
       "      <th>10</th>\n",
       "      <td>241</td>\n",
       "      <td>226</td>\n",
       "      <td>238</td>\n",
       "      <td>338</td>\n",
       "    </tr>\n",
       "    <tr>\n",
       "      <th>11</th>\n",
       "      <td>248</td>\n",
       "      <td>238</td>\n",
       "      <td>248</td>\n",
       "      <td>378</td>\n",
       "    </tr>\n",
       "    <tr>\n",
       "      <th>12</th>\n",
       "      <td>299</td>\n",
       "      <td>248</td>\n",
       "      <td>257</td>\n",
       "      <td>433</td>\n",
       "    </tr>\n",
       "    <tr>\n",
       "      <th>13</th>\n",
       "      <td>323</td>\n",
       "      <td>286</td>\n",
       "      <td>319</td>\n",
       "      <td>442</td>\n",
       "    </tr>\n",
       "    <tr>\n",
       "      <th>14</th>\n",
       "      <td>336</td>\n",
       "      <td>299</td>\n",
       "      <td>323</td>\n",
       "      <td>451</td>\n",
       "    </tr>\n",
       "    <tr>\n",
       "      <th>15</th>\n",
       "      <td>338</td>\n",
       "      <td>319</td>\n",
       "      <td>381</td>\n",
       "      <td>453</td>\n",
       "    </tr>\n",
       "    <tr>\n",
       "      <th>16</th>\n",
       "      <td>424</td>\n",
       "      <td>323</td>\n",
       "      <td>424</td>\n",
       "      <td>455</td>\n",
       "    </tr>\n",
       "    <tr>\n",
       "      <th>17</th>\n",
       "      <td>447</td>\n",
       "      <td>424</td>\n",
       "      <td>430</td>\n",
       "      <td>472</td>\n",
       "    </tr>\n",
       "    <tr>\n",
       "      <th>18</th>\n",
       "      <td>454</td>\n",
       "      <td>430</td>\n",
       "      <td>443</td>\n",
       "      <td>475</td>\n",
       "    </tr>\n",
       "    <tr>\n",
       "      <th>19</th>\n",
       "      <td>475</td>\n",
       "      <td>443</td>\n",
       "      <td>475</td>\n",
       "      <td>493</td>\n",
       "    </tr>\n",
       "  </tbody>\n",
       "</table>\n",
       "</div>"
      ],
      "text/plain": [
       "    SKB-UCI  SFM-LogReg-UCI  RFE-LogReg-UCI  UCI-Feat-Extracted\n",
       "0        13              13               0                  28\n",
       "1        59              15              13                  48\n",
       "2        61              44              44                  64\n",
       "3        64              59              59                 105\n",
       "4       105              61              61                 128\n",
       "5       128             120             120                 153\n",
       "6       190             149             149                 241\n",
       "7       222             157             157                 281\n",
       "8       226             190             199                 318\n",
       "9       238             222             226                 336\n",
       "10      241             226             238                 338\n",
       "11      248             238             248                 378\n",
       "12      299             248             257                 433\n",
       "13      323             286             319                 442\n",
       "14      336             299             323                 451\n",
       "15      338             319             381                 453\n",
       "16      424             323             424                 455\n",
       "17      447             424             430                 472\n",
       "18      454             430             443                 475\n",
       "19      475             443             475                 493"
      ]
     },
     "execution_count": 153,
     "metadata": {},
     "output_type": "execute_result"
    }
   ],
   "source": [
    "uci_chosen_feat_df"
   ]
  },
  {
   "cell_type": "markdown",
   "metadata": {},
   "source": [
    "### Voting by Calculating Frequency of Features That Occured in Each of the 3 Feature Selection Methods Above"
   ]
  },
  {
   "cell_type": "code",
   "execution_count": 141,
   "metadata": {
    "collapsed": true
   },
   "outputs": [],
   "source": [
    "def feature_frequency_count(dataframe):\n",
    "    feature_count_dict = {}\n",
    "    \n",
    "    for column in dataframe.columns:\n",
    "        for element in dataframe[column]:\n",
    "            if element in feature_count_dict.keys():\n",
    "                feature_count_dict[element] += 1\n",
    "            else:\n",
    "                feature_count_dict[element] = 1\n",
    "    return feature_count_dict"
   ]
  },
  {
   "cell_type": "code",
   "execution_count": 142,
   "metadata": {
    "collapsed": true
   },
   "outputs": [],
   "source": [
    "cook_feat_count_dict = feature_frequency_count(cook_chosen_feat_df)\n",
    "uci_feat_count_dict = feature_frequency_count(uci_chosen_feat_df)"
   ]
  },
  {
   "cell_type": "code",
   "execution_count": 149,
   "metadata": {
    "collapsed": true,
    "scrolled": true
   },
   "outputs": [],
   "source": [
    "cook_highest_freq_features = [(key, value) for key, value in cook_feat_count_dict.items() if value > 2]\n",
    "uci_highest_freq_features = [(key, value) for key, value in uci_feat_count_dict.items() if value > 2]"
   ]
  },
  {
   "cell_type": "code",
   "execution_count": 150,
   "metadata": {},
   "outputs": [
    {
     "data": {
      "text/plain": [
       "[(69, 4)]"
      ]
     },
     "execution_count": 150,
     "metadata": {},
     "output_type": "execute_result"
    }
   ],
   "source": [
    "cook_highest_freq_features"
   ]
  },
  {
   "cell_type": "code",
   "execution_count": 151,
   "metadata": {},
   "outputs": [
    {
     "data": {
      "text/plain": [
       "[(13, 3),\n",
       " (59, 3),\n",
       " (61, 3),\n",
       " (226, 3),\n",
       " (238, 3),\n",
       " (248, 3),\n",
       " (323, 3),\n",
       " (424, 3),\n",
       " (475, 3)]"
      ]
     },
     "execution_count": 151,
     "metadata": {},
     "output_type": "execute_result"
    }
   ],
   "source": [
    "uci_highest_freq_features"
   ]
  }
 ],
 "metadata": {
  "kernelspec": {
   "display_name": "Python 3",
   "language": "python",
   "name": "python3"
  },
  "language_info": {
   "codemirror_mode": {
    "name": "ipython",
    "version": 3
   },
   "file_extension": ".py",
   "mimetype": "text/x-python",
   "name": "python",
   "nbconvert_exporter": "python",
   "pygments_lexer": "ipython3",
   "version": "3.6.2"
  }
 },
 "nbformat": 4,
 "nbformat_minor": 2
}
