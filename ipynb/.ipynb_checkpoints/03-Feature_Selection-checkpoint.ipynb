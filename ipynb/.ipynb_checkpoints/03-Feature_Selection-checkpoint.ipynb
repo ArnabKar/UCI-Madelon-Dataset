{
 "cells": [
  {
   "cell_type": "markdown",
   "metadata": {},
   "source": [
    "# Feature Selection\n",
    "\n",
    "**PROCESS**\n",
    "1. Load the Data, including the labels (-1 and 1 for UCI Madelon, and 0 and 1 for Cook Madelon datasets).\n",
    "2. Use the raw data with all of the original features (500 for UCI Madelon, 1,000 for Cook Madelon) \n",
    "3. Build feature selection pipelines that include the following feature selection methods:\n",
    "        - SelectKBest \n",
    "        - SelectFromModel(LogisticRegression)\n",
    "        - SelectFromModel(KNeighborsClassifier)\n",
    "        - SelectFromModel(DecisionTreeClassifier)\n",
    "        - SelectFromModel(SVC)\n",
    "        - Recursive Feature Eliminator (LogisticRegression)\n",
    "        - Recursive Feature Eliminator (DecisionTreeClassifier)\n",
    "4. Calculate the frequency of the returned feature numbers for each dataset as a means of 'voting' for which features would be considered the most relevant of the total 500 and 1,000 in the UCI and Cook Madelon dataset, respectively.\n",
    "5. Compare the selected features in each case to the Feature Extraction methods implemented in Notebook 2\n",
    "\n",
    "**RESULTS**\n",
    "\n",
    "\n",
    "INSERT A TABLE HERE TO SHOW THE 20 FEATURES SELECTED FROM EACH OF THE METHODS APPLIED, and the FREQUENCY, and COMPARISON TO THE FEATURE EXTRACTION METHODOLOGY IN NOTEBOOK 2\n"
   ]
  },
  {
   "cell_type": "code",
   "execution_count": null,
   "metadata": {
    "collapsed": true
   },
   "outputs": [],
   "source": []
  }
 ],
 "metadata": {
  "kernelspec": {
   "display_name": "Python 3",
   "language": "python",
   "name": "python3"
  },
  "language_info": {
   "codemirror_mode": {
    "name": "ipython",
    "version": 3
   },
   "file_extension": ".py",
   "mimetype": "text/x-python",
   "name": "python",
   "nbconvert_exporter": "python",
   "pygments_lexer": "ipython3",
   "version": "3.6.2"
  }
 },
 "nbformat": 4,
 "nbformat_minor": 2
}
