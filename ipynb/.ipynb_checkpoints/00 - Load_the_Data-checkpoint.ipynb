{
 "cells": [
  {
   "cell_type": "markdown",
   "metadata": {},
   "source": [
    "# Load the Data"
   ]
  },
  {
   "cell_type": "code",
   "execution_count": 1,
   "metadata": {
    "collapsed": true
   },
   "outputs": [],
   "source": [
    "import pandas as pd, numpy as np\n",
    "import matplotlib.pyplot as plt, seaborn as sns\n",
    "%matplotlib inline"
   ]
  },
  {
   "cell_type": "code",
   "execution_count": 2,
   "metadata": {
    "collapsed": true
   },
   "outputs": [],
   "source": [
    "!pip install psycopg2 --quiet"
   ]
  },
  {
   "cell_type": "code",
   "execution_count": 3,
   "metadata": {},
   "outputs": [],
   "source": [
    "import psycopg2 as pg2\n",
    "from psycopg2.extras import RealDictCursor"
   ]
  },
  {
   "cell_type": "code",
   "execution_count": 4,
   "metadata": {},
   "outputs": [],
   "source": [
    "from os import chdir\n",
    "chdir('/home/jovyan/madelon/')"
   ]
  },
  {
   "cell_type": "code",
   "execution_count": 5,
   "metadata": {},
   "outputs": [
    {
     "data": {
      "text/plain": [
       "'/home/jovyan/madelon'"
      ]
     },
     "execution_count": 5,
     "metadata": {},
     "output_type": "execute_result"
    }
   ],
   "source": [
    "pwd"
   ]
  },
  {
   "cell_type": "code",
   "execution_count": 6,
   "metadata": {
    "scrolled": true
   },
   "outputs": [],
   "source": [
    "import functions.db_helper as db"
   ]
  },
  {
   "cell_type": "markdown",
   "metadata": {},
   "source": [
    "### Load UCI Madelon Datasets\n",
    "https://archive.ics.uci.edu/ml/machine-learning-databases/madelon/MADELON/"
   ]
  },
  {
   "cell_type": "code",
   "execution_count": 7,
   "metadata": {
    "collapsed": true
   },
   "outputs": [],
   "source": [
    "madelon_test = './assets/madelon_test.data'\n",
    "madelon_train = './assets/madelon_train.data'\n",
    "madelon_train_labels = './assets/madelon_train.labels'\n",
    "madelon_valid = './assets/madelon_valid.data'"
   ]
  },
  {
   "cell_type": "code",
   "execution_count": 8,
   "metadata": {},
   "outputs": [
    {
     "data": {
      "text/plain": [
       "(1800, 501)"
      ]
     },
     "execution_count": 8,
     "metadata": {},
     "output_type": "execute_result"
    }
   ],
   "source": [
    "madelon_test_df = pd.read_csv(madelon_test, delimiter=' ', header=None)\n",
    "madelon_test_df.shape"
   ]
  },
  {
   "cell_type": "code",
   "execution_count": 9,
   "metadata": {},
   "outputs": [
    {
     "data": {
      "text/plain": [
       "(2000, 501)"
      ]
     },
     "execution_count": 9,
     "metadata": {},
     "output_type": "execute_result"
    }
   ],
   "source": [
    "madelon_train_df = pd.read_csv(madelon_train, delimiter=' ', header=None)\n",
    "madelon_train_df.shape"
   ]
  },
  {
   "cell_type": "code",
   "execution_count": 10,
   "metadata": {},
   "outputs": [
    {
     "data": {
      "text/plain": [
       "(2000, 1)"
      ]
     },
     "execution_count": 10,
     "metadata": {},
     "output_type": "execute_result"
    }
   ],
   "source": [
    "madelon_train_labels_df = pd.read_csv(madelon_train_labels, delimiter=' ', header=None)\n",
    "madelon_train_labels_df.shape"
   ]
  },
  {
   "cell_type": "code",
   "execution_count": 11,
   "metadata": {},
   "outputs": [
    {
     "data": {
      "text/plain": [
       "(600, 501)"
      ]
     },
     "execution_count": 11,
     "metadata": {},
     "output_type": "execute_result"
    }
   ],
   "source": [
    "madelon_valid_df = pd.read_csv(madelon_valid, delimiter=' ', header=None)\n",
    "madelon_valid_df.shape"
   ]
  },
  {
   "cell_type": "code",
   "execution_count": 12,
   "metadata": {
    "collapsed": true
   },
   "outputs": [],
   "source": [
    "test10 = madelon_test_df.sample(180)\n",
    "train10 = madelon_train_df.sample(200)\n",
    "train_label10 = madelon_train_labels_df.sample(200)\n",
    "valid10 = madelon_valid_df.sample(60)"
   ]
  },
  {
   "cell_type": "code",
   "execution_count": 16,
   "metadata": {
    "collapsed": true
   },
   "outputs": [],
   "source": [
    "test10.to_pickle('./assets/madelon_test_10.p')\n",
    "train10.to_pickle('./assets/madelon_train_10.p')\n",
    "train_label10.to_pickle('./assets/madelon_train_label10.p')\n",
    "valid10.to_pickle('./assets/madelon_valid10.p')"
   ]
  },
  {
   "cell_type": "markdown",
   "metadata": {},
   "source": [
    "### Load `make_classification` Dataset from Josh Cook's Database"
   ]
  },
  {
   "cell_type": "code",
   "execution_count": 13,
   "metadata": {
    "collapsed": true
   },
   "outputs": [],
   "source": [
    "con = pg2.connect(host='34.211.227.227', dbname='postgres', user='postgres')\n",
    "cur = con.cursor(cursor_factory=RealDictCursor)\n",
    "\n",
    "cur.execute('SELECT * FROM madelon LIMIT 440;')\n",
    "results = cur.fetchall()\n",
    "con.close()"
   ]
  },
  {
   "cell_type": "code",
   "execution_count": 14,
   "metadata": {},
   "outputs": [
    {
     "data": {
      "text/html": [
       "<div>\n",
       "<table border=\"1\" class=\"dataframe\">\n",
       "  <thead>\n",
       "    <tr style=\"text-align: right;\">\n",
       "      <th></th>\n",
       "      <th>_id</th>\n",
       "      <th>feat_000</th>\n",
       "      <th>feat_001</th>\n",
       "      <th>feat_002</th>\n",
       "      <th>feat_003</th>\n",
       "      <th>feat_004</th>\n",
       "      <th>feat_005</th>\n",
       "      <th>feat_006</th>\n",
       "      <th>feat_007</th>\n",
       "      <th>feat_008</th>\n",
       "      <th>...</th>\n",
       "      <th>feat_991</th>\n",
       "      <th>feat_992</th>\n",
       "      <th>feat_993</th>\n",
       "      <th>feat_994</th>\n",
       "      <th>feat_995</th>\n",
       "      <th>feat_996</th>\n",
       "      <th>feat_997</th>\n",
       "      <th>feat_998</th>\n",
       "      <th>feat_999</th>\n",
       "      <th>target</th>\n",
       "    </tr>\n",
       "  </thead>\n",
       "  <tbody>\n",
       "    <tr>\n",
       "      <th>0</th>\n",
       "      <td>111392</td>\n",
       "      <td>0.161321</td>\n",
       "      <td>-1.013775</td>\n",
       "      <td>-1.540829</td>\n",
       "      <td>-0.518230</td>\n",
       "      <td>2.616692</td>\n",
       "      <td>0.284523</td>\n",
       "      <td>0.241895</td>\n",
       "      <td>0.116477</td>\n",
       "      <td>0.248608</td>\n",
       "      <td>...</td>\n",
       "      <td>1.491690</td>\n",
       "      <td>2.430912</td>\n",
       "      <td>0.147782</td>\n",
       "      <td>-0.169831</td>\n",
       "      <td>0.661991</td>\n",
       "      <td>-0.112751</td>\n",
       "      <td>-1.519296</td>\n",
       "      <td>-0.370943</td>\n",
       "      <td>0.250991</td>\n",
       "      <td>1</td>\n",
       "    </tr>\n",
       "    <tr>\n",
       "      <th>1</th>\n",
       "      <td>111393</td>\n",
       "      <td>-0.533434</td>\n",
       "      <td>1.254110</td>\n",
       "      <td>0.388678</td>\n",
       "      <td>0.184136</td>\n",
       "      <td>0.044594</td>\n",
       "      <td>2.234597</td>\n",
       "      <td>-1.396203</td>\n",
       "      <td>0.684724</td>\n",
       "      <td>-1.937927</td>\n",
       "      <td>...</td>\n",
       "      <td>0.510600</td>\n",
       "      <td>1.845591</td>\n",
       "      <td>-1.198929</td>\n",
       "      <td>1.291019</td>\n",
       "      <td>-0.600747</td>\n",
       "      <td>-0.095714</td>\n",
       "      <td>1.295219</td>\n",
       "      <td>1.195496</td>\n",
       "      <td>0.039909</td>\n",
       "      <td>1</td>\n",
       "    </tr>\n",
       "    <tr>\n",
       "      <th>2</th>\n",
       "      <td>111394</td>\n",
       "      <td>0.521852</td>\n",
       "      <td>0.866282</td>\n",
       "      <td>-0.746883</td>\n",
       "      <td>0.029636</td>\n",
       "      <td>-0.926891</td>\n",
       "      <td>0.175253</td>\n",
       "      <td>0.827043</td>\n",
       "      <td>0.474148</td>\n",
       "      <td>0.552725</td>\n",
       "      <td>...</td>\n",
       "      <td>1.633826</td>\n",
       "      <td>-0.938224</td>\n",
       "      <td>-1.128507</td>\n",
       "      <td>-0.820846</td>\n",
       "      <td>-0.217187</td>\n",
       "      <td>1.304271</td>\n",
       "      <td>-0.387483</td>\n",
       "      <td>1.175498</td>\n",
       "      <td>-1.615549</td>\n",
       "      <td>1</td>\n",
       "    </tr>\n",
       "    <tr>\n",
       "      <th>3</th>\n",
       "      <td>111395</td>\n",
       "      <td>0.218378</td>\n",
       "      <td>-1.009908</td>\n",
       "      <td>2.264539</td>\n",
       "      <td>0.315275</td>\n",
       "      <td>-1.289542</td>\n",
       "      <td>1.453382</td>\n",
       "      <td>-1.244723</td>\n",
       "      <td>0.234715</td>\n",
       "      <td>0.911829</td>\n",
       "      <td>...</td>\n",
       "      <td>-0.675576</td>\n",
       "      <td>0.702900</td>\n",
       "      <td>-0.131002</td>\n",
       "      <td>-0.354553</td>\n",
       "      <td>1.491645</td>\n",
       "      <td>-0.650966</td>\n",
       "      <td>0.359857</td>\n",
       "      <td>0.539269</td>\n",
       "      <td>0.042523</td>\n",
       "      <td>1</td>\n",
       "    </tr>\n",
       "    <tr>\n",
       "      <th>4</th>\n",
       "      <td>111396</td>\n",
       "      <td>0.666678</td>\n",
       "      <td>0.706776</td>\n",
       "      <td>0.121943</td>\n",
       "      <td>0.980370</td>\n",
       "      <td>-1.851469</td>\n",
       "      <td>1.376080</td>\n",
       "      <td>1.743788</td>\n",
       "      <td>-1.643395</td>\n",
       "      <td>-1.923549</td>\n",
       "      <td>...</td>\n",
       "      <td>1.326207</td>\n",
       "      <td>0.591755</td>\n",
       "      <td>0.131893</td>\n",
       "      <td>-0.665220</td>\n",
       "      <td>0.948293</td>\n",
       "      <td>0.001271</td>\n",
       "      <td>-0.127951</td>\n",
       "      <td>-1.365971</td>\n",
       "      <td>0.839682</td>\n",
       "      <td>0</td>\n",
       "    </tr>\n",
       "  </tbody>\n",
       "</table>\n",
       "<p>5 rows × 1002 columns</p>\n",
       "</div>"
      ],
      "text/plain": [
       "      _id  feat_000  feat_001  feat_002  feat_003  feat_004  feat_005  \\\n",
       "0  111392  0.161321 -1.013775 -1.540829 -0.518230  2.616692  0.284523   \n",
       "1  111393 -0.533434  1.254110  0.388678  0.184136  0.044594  2.234597   \n",
       "2  111394  0.521852  0.866282 -0.746883  0.029636 -0.926891  0.175253   \n",
       "3  111395  0.218378 -1.009908  2.264539  0.315275 -1.289542  1.453382   \n",
       "4  111396  0.666678  0.706776  0.121943  0.980370 -1.851469  1.376080   \n",
       "\n",
       "   feat_006  feat_007  feat_008   ...    feat_991  feat_992  feat_993  \\\n",
       "0  0.241895  0.116477  0.248608   ...    1.491690  2.430912  0.147782   \n",
       "1 -1.396203  0.684724 -1.937927   ...    0.510600  1.845591 -1.198929   \n",
       "2  0.827043  0.474148  0.552725   ...    1.633826 -0.938224 -1.128507   \n",
       "3 -1.244723  0.234715  0.911829   ...   -0.675576  0.702900 -0.131002   \n",
       "4  1.743788 -1.643395 -1.923549   ...    1.326207  0.591755  0.131893   \n",
       "\n",
       "   feat_994  feat_995  feat_996  feat_997  feat_998  feat_999  target  \n",
       "0 -0.169831  0.661991 -0.112751 -1.519296 -0.370943  0.250991       1  \n",
       "1  1.291019 -0.600747 -0.095714  1.295219  1.195496  0.039909       1  \n",
       "2 -0.820846 -0.217187  1.304271 -0.387483  1.175498 -1.615549       1  \n",
       "3 -0.354553  1.491645 -0.650966  0.359857  0.539269  0.042523       1  \n",
       "4 -0.665220  0.948293  0.001271 -0.127951 -1.365971  0.839682       0  \n",
       "\n",
       "[5 rows x 1002 columns]"
      ]
     },
     "execution_count": 14,
     "metadata": {},
     "output_type": "execute_result"
    }
   ],
   "source": [
    "cook_sample = pd.DataFrame(results)\n",
    "cook_sample.head(5)"
   ]
  },
  {
   "cell_type": "code",
   "execution_count": 15,
   "metadata": {
    "scrolled": false
   },
   "outputs": [
    {
     "data": {
      "text/plain": [
       "(440, 1002)"
      ]
     },
     "execution_count": 15,
     "metadata": {},
     "output_type": "execute_result"
    }
   ],
   "source": [
    "cook_sample.shape"
   ]
  },
  {
   "cell_type": "code",
   "execution_count": 17,
   "metadata": {
    "collapsed": true
   },
   "outputs": [],
   "source": [
    "cook_sample.to_pickle('./assets/cook_sample.p')"
   ]
  }
 ],
 "metadata": {
  "kernelspec": {
   "display_name": "Python 3",
   "language": "python",
   "name": "python3"
  },
  "language_info": {
   "codemirror_mode": {
    "name": "ipython",
    "version": 3
   },
   "file_extension": ".py",
   "mimetype": "text/x-python",
   "name": "python",
   "nbconvert_exporter": "python",
   "pygments_lexer": "ipython3",
   "version": "3.6.2"
  }
 },
 "nbformat": 4,
 "nbformat_minor": 2
}
