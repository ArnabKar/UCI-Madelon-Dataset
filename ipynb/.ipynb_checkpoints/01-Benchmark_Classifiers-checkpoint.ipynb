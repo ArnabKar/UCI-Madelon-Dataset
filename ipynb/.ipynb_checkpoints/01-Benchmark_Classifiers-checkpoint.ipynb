{
 "cells": [
  {
   "cell_type": "markdown",
   "metadata": {},
   "source": [
    "## Feed Unprocessed Data into Classifiers, Score, and Measure Accuracy"
   ]
  },
  {
   "cell_type": "markdown",
   "metadata": {},
   "source": [
    "**PROCESS**\n",
    "\n",
    "Pushed in raw, skewed, un-scaled data into the following 4 classifiers:\n",
    "1. Logistic Regression\n",
    "- KNeighbors Classifier\n",
    "- Decision Tree Classifier\n",
    "- Support Vector Classifier (linear kernel)\n",
    "\n",
    "**RESULTS**\n",
    "\n",
    "For each the Madelon and the Cook dataset, the logloss scores were as follows:\n",
    "- Madelon log loss:\n",
    "        {'DecisionTree': 13.815665146800779,\n",
    "         'KNeighbors': 9.6709160277198709,\n",
    "         'LogisticRegression': 13.355169450800107,\n",
    "         'SVClassifier': 13.124735030066057}\n",
    "- Cook log loss:\n",
    "        {'DecisionTree': 13.229545793211978,\n",
    "         'KNeighbors': 13.690058934974759,\n",
    "         'LogisticRegression': 15.469364125630751,\n",
    "         'SVClassifier': 13.020220360271567}\n",
    " \n",
    "- In both cases, the Logistic Regression performed the worst for raw benchmarking.\n",
    "- In the case of the Madelon dataset, the KNeighbors Classifier performed the best with log loss of 9.67.\n",
    "- in the case of the Cook dataset, the SVClassifier performed the best with log loss of 13.02.\n",
    "\n",
    "**ADDITIONAL RESULTS**\n",
    "- Additional results are stored in the respective results dictionaries for each of the UCI Madelon and Cook Madelon datasets, respectively. \n",
    "- Classification reports and confusion matrices were generated as well to measure accuracy."
   ]
  },
  {
   "cell_type": "code",
   "execution_count": 16,
   "metadata": {
    "collapsed": true
   },
   "outputs": [],
   "source": [
    "import pandas as pd, numpy as np\n",
    "import matplotlib.pyplot as plt, seaborn as sns\n",
    "%matplotlib inline"
   ]
  },
  {
   "cell_type": "code",
   "execution_count": 17,
   "metadata": {
    "collapsed": true
   },
   "outputs": [],
   "source": [
    "from sklearn.preprocessing import StandardScaler, MinMaxScaler\n",
    "\n",
    "from sklearn.linear_model import LogisticRegression\n",
    "from sklearn.neighbors import KNeighborsClassifier\n",
    "from sklearn.tree import DecisionTreeClassifier\n",
    "from sklearn.svm import SVC \n",
    "\n",
    "from sklearn.pipeline import Pipeline\n",
    "from sklearn.model_selection import train_test_split, GridSearchCV\n",
    "\n",
    "from sklearn.metrics import classification_report, confusion_matrix, log_loss"
   ]
  },
  {
   "cell_type": "code",
   "execution_count": 75,
   "metadata": {
    "collapsed": true
   },
   "outputs": [],
   "source": [
    "from pprint import pprint"
   ]
  },
  {
   "cell_type": "markdown",
   "metadata": {},
   "source": [
    "### Load the Data from Pickled DataFrames"
   ]
  },
  {
   "cell_type": "code",
   "execution_count": 18,
   "metadata": {},
   "outputs": [
    {
     "data": {
      "text/plain": [
       "'/home/jovyan/ipynb'"
      ]
     },
     "execution_count": 18,
     "metadata": {},
     "output_type": "execute_result"
    }
   ],
   "source": [
    "pwd"
   ]
  },
  {
   "cell_type": "code",
   "execution_count": 19,
   "metadata": {
    "collapsed": true
   },
   "outputs": [],
   "source": [
    "cook_total_sample = pd.read_pickle('../assets/pickled_samples/cook_total_samples.p')\n",
    "madelon_train_sample = pd.read_pickle('../assets/pickled_samples/madelon_sample_train.p')\n",
    "madelon_train_sample_label = pd.read_pickle('../assets/pickled_samples/madelon_sample_train_labels.p')"
   ]
  },
  {
   "cell_type": "markdown",
   "metadata": {},
   "source": [
    "**Madelon:** It's not necessary to load in the test set since that's the hold out data to test the classification model's accuracy. Train/test/split on the training data. \n"
   ]
  },
  {
   "cell_type": "markdown",
   "metadata": {},
   "source": [
    "### Run the Data through the Classifiers and obtain Train & Test scores"
   ]
  },
  {
   "cell_type": "markdown",
   "metadata": {},
   "source": [
    "#### Madelon Dataset"
   ]
  },
  {
   "cell_type": "code",
   "execution_count": 20,
   "metadata": {
    "scrolled": false
   },
   "outputs": [
    {
     "data": {
      "text/html": [
       "<div>\n",
       "<table border=\"1\" class=\"dataframe\">\n",
       "  <thead>\n",
       "    <tr style=\"text-align: right;\">\n",
       "      <th></th>\n",
       "      <th>0</th>\n",
       "      <th>1</th>\n",
       "      <th>2</th>\n",
       "      <th>3</th>\n",
       "      <th>4</th>\n",
       "      <th>5</th>\n",
       "      <th>6</th>\n",
       "      <th>7</th>\n",
       "      <th>8</th>\n",
       "      <th>9</th>\n",
       "      <th>...</th>\n",
       "      <th>490</th>\n",
       "      <th>491</th>\n",
       "      <th>492</th>\n",
       "      <th>493</th>\n",
       "      <th>494</th>\n",
       "      <th>495</th>\n",
       "      <th>496</th>\n",
       "      <th>497</th>\n",
       "      <th>498</th>\n",
       "      <th>499</th>\n",
       "    </tr>\n",
       "  </thead>\n",
       "  <tbody>\n",
       "    <tr>\n",
       "      <th>1239</th>\n",
       "      <td>492</td>\n",
       "      <td>526</td>\n",
       "      <td>464</td>\n",
       "      <td>476</td>\n",
       "      <td>500</td>\n",
       "      <td>479</td>\n",
       "      <td>445</td>\n",
       "      <td>475</td>\n",
       "      <td>488</td>\n",
       "      <td>467</td>\n",
       "      <td>...</td>\n",
       "      <td>521</td>\n",
       "      <td>477</td>\n",
       "      <td>489</td>\n",
       "      <td>456</td>\n",
       "      <td>487</td>\n",
       "      <td>486</td>\n",
       "      <td>484</td>\n",
       "      <td>467</td>\n",
       "      <td>507</td>\n",
       "      <td>469</td>\n",
       "    </tr>\n",
       "    <tr>\n",
       "      <th>1252</th>\n",
       "      <td>479</td>\n",
       "      <td>488</td>\n",
       "      <td>615</td>\n",
       "      <td>478</td>\n",
       "      <td>476</td>\n",
       "      <td>485</td>\n",
       "      <td>471</td>\n",
       "      <td>476</td>\n",
       "      <td>496</td>\n",
       "      <td>475</td>\n",
       "      <td>...</td>\n",
       "      <td>479</td>\n",
       "      <td>473</td>\n",
       "      <td>472</td>\n",
       "      <td>287</td>\n",
       "      <td>479</td>\n",
       "      <td>493</td>\n",
       "      <td>473</td>\n",
       "      <td>465</td>\n",
       "      <td>496</td>\n",
       "      <td>484</td>\n",
       "    </tr>\n",
       "    <tr>\n",
       "      <th>988</th>\n",
       "      <td>474</td>\n",
       "      <td>505</td>\n",
       "      <td>502</td>\n",
       "      <td>469</td>\n",
       "      <td>494</td>\n",
       "      <td>477</td>\n",
       "      <td>409</td>\n",
       "      <td>478</td>\n",
       "      <td>500</td>\n",
       "      <td>485</td>\n",
       "      <td>...</td>\n",
       "      <td>500</td>\n",
       "      <td>463</td>\n",
       "      <td>497</td>\n",
       "      <td>482</td>\n",
       "      <td>482</td>\n",
       "      <td>521</td>\n",
       "      <td>482</td>\n",
       "      <td>482</td>\n",
       "      <td>469</td>\n",
       "      <td>456</td>\n",
       "    </tr>\n",
       "    <tr>\n",
       "      <th>457</th>\n",
       "      <td>493</td>\n",
       "      <td>499</td>\n",
       "      <td>534</td>\n",
       "      <td>491</td>\n",
       "      <td>489</td>\n",
       "      <td>480</td>\n",
       "      <td>530</td>\n",
       "      <td>479</td>\n",
       "      <td>487</td>\n",
       "      <td>473</td>\n",
       "      <td>...</td>\n",
       "      <td>487</td>\n",
       "      <td>484</td>\n",
       "      <td>496</td>\n",
       "      <td>383</td>\n",
       "      <td>477</td>\n",
       "      <td>486</td>\n",
       "      <td>491</td>\n",
       "      <td>472</td>\n",
       "      <td>549</td>\n",
       "      <td>499</td>\n",
       "    </tr>\n",
       "    <tr>\n",
       "      <th>886</th>\n",
       "      <td>476</td>\n",
       "      <td>518</td>\n",
       "      <td>504</td>\n",
       "      <td>486</td>\n",
       "      <td>502</td>\n",
       "      <td>478</td>\n",
       "      <td>460</td>\n",
       "      <td>474</td>\n",
       "      <td>486</td>\n",
       "      <td>480</td>\n",
       "      <td>...</td>\n",
       "      <td>466</td>\n",
       "      <td>480</td>\n",
       "      <td>475</td>\n",
       "      <td>682</td>\n",
       "      <td>506</td>\n",
       "      <td>489</td>\n",
       "      <td>486</td>\n",
       "      <td>468</td>\n",
       "      <td>505</td>\n",
       "      <td>501</td>\n",
       "    </tr>\n",
       "  </tbody>\n",
       "</table>\n",
       "<p>5 rows × 500 columns</p>\n",
       "</div>"
      ],
      "text/plain": [
       "      0    1    2    3    4    5    6    7    8    9   ...   490  491  492  \\\n",
       "1239  492  526  464  476  500  479  445  475  488  467 ...   521  477  489   \n",
       "1252  479  488  615  478  476  485  471  476  496  475 ...   479  473  472   \n",
       "988   474  505  502  469  494  477  409  478  500  485 ...   500  463  497   \n",
       "457   493  499  534  491  489  480  530  479  487  473 ...   487  484  496   \n",
       "886   476  518  504  486  502  478  460  474  486  480 ...   466  480  475   \n",
       "\n",
       "      493  494  495  496  497  498  499  \n",
       "1239  456  487  486  484  467  507  469  \n",
       "1252  287  479  493  473  465  496  484  \n",
       "988   482  482  521  482  482  469  456  \n",
       "457   383  477  486  491  472  549  499  \n",
       "886   682  506  489  486  468  505  501  \n",
       "\n",
       "[5 rows x 500 columns]"
      ]
     },
     "execution_count": 20,
     "metadata": {},
     "output_type": "execute_result"
    }
   ],
   "source": [
    "madelon_train_sample.head()"
   ]
  },
  {
   "cell_type": "code",
   "execution_count": 21,
   "metadata": {},
   "outputs": [
    {
     "data": {
      "text/plain": [
       "(600, 500)"
      ]
     },
     "execution_count": 21,
     "metadata": {},
     "output_type": "execute_result"
    }
   ],
   "source": [
    "madelon_train_sample.shape"
   ]
  },
  {
   "cell_type": "code",
   "execution_count": 22,
   "metadata": {},
   "outputs": [
    {
     "data": {
      "text/plain": [
       "(600,)"
      ]
     },
     "execution_count": 22,
     "metadata": {},
     "output_type": "execute_result"
    }
   ],
   "source": [
    "madelon_train_sample_label.shape"
   ]
  },
  {
   "cell_type": "code",
   "execution_count": 23,
   "metadata": {
    "collapsed": true
   },
   "outputs": [],
   "source": [
    "mad_X_train, mad_X_test, mad_y_train, mad_y_test = train_test_split(madelon_train_sample,\\\n",
    "                                                                    madelon_train_sample_label)"
   ]
  },
  {
   "cell_type": "code",
   "execution_count": 24,
   "metadata": {},
   "outputs": [
    {
     "data": {
      "text/plain": [
       "(450, 500)"
      ]
     },
     "metadata": {},
     "output_type": "display_data"
    },
    {
     "data": {
      "text/plain": [
       "(150, 500)"
      ]
     },
     "metadata": {},
     "output_type": "display_data"
    },
    {
     "data": {
      "text/plain": [
       "(450,)"
      ]
     },
     "metadata": {},
     "output_type": "display_data"
    },
    {
     "data": {
      "text/plain": [
       "(150,)"
      ]
     },
     "metadata": {},
     "output_type": "display_data"
    }
   ],
   "source": [
    "display(mad_X_train.shape)\n",
    "display(mad_X_test.shape)\n",
    "display(mad_y_train.shape)\n",
    "display(mad_y_test.shape)"
   ]
  },
  {
   "cell_type": "markdown",
   "metadata": {},
   "source": [
    "#### Madelon Dataset (Raw Benchmarking without any Preprocessing)\n",
    "Uses the out of the box default parameters provided by `sklearn` for the selected classification models."
   ]
  },
  {
   "cell_type": "code",
   "execution_count": 25,
   "metadata": {
    "collapsed": true
   },
   "outputs": [],
   "source": [
    "names_of_classifiers = ['LogisticRegression', 'KNeighbors', 'DecisionTree', 'SVClassifier']\n",
    "\n",
    "classifiers = [\n",
    "    LogisticRegression(n_jobs=-1, random_state=42),\n",
    "    KNeighborsClassifier(n_jobs=-1),\n",
    "    DecisionTreeClassifier(random_state=42),\n",
    "    SVC(random_state=42)]"
   ]
  },
  {
   "cell_type": "markdown",
   "metadata": {},
   "source": [
    "Store the results in a dictionary to subsequenty be able to throw the results to compare into a pandas DataFrame"
   ]
  },
  {
   "cell_type": "code",
   "execution_count": 26,
   "metadata": {
    "collapsed": true
   },
   "outputs": [],
   "source": [
    "mad_raw_test_scores = {}\n",
    "mad_raw_train_scores = {}\n",
    "mad_raw_y_preds = {}\n",
    "\n",
    "for name, clfr in zip(names_of_classifiers, classifiers):\n",
    "    clfr.fit(mad_X_train, mad_y_train)\n",
    "    \n",
    "    train_score = clfr.score(mad_X_train, mad_y_train)\n",
    "    test_score = clfr.score(mad_X_test, mad_y_test)\n",
    "    y_pred = clfr.predict(mad_X_test)\n",
    "    \n",
    "    mad_raw_train_scores[name] = train_score\n",
    "    mad_raw_test_scores[name] = test_score\n",
    "    mad_raw_y_preds[name] = y_pred\n",
    "    "
   ]
  },
  {
   "cell_type": "code",
   "execution_count": 27,
   "metadata": {},
   "outputs": [
    {
     "data": {
      "text/plain": [
       "{'DecisionTree': 0.59999999999999998,\n",
       " 'KNeighbors': 0.71999999999999997,\n",
       " 'LogisticRegression': 0.61333333333333329,\n",
       " 'SVClassifier': 0.62}"
      ]
     },
     "execution_count": 27,
     "metadata": {},
     "output_type": "execute_result"
    }
   ],
   "source": [
    "mad_raw_test_scores"
   ]
  },
  {
   "cell_type": "code",
   "execution_count": 28,
   "metadata": {},
   "outputs": [
    {
     "data": {
      "text/plain": [
       "{'DecisionTree': 1.0,\n",
       " 'KNeighbors': 0.79777777777777781,\n",
       " 'LogisticRegression': 1.0,\n",
       " 'SVClassifier': 1.0}"
      ]
     },
     "execution_count": 28,
     "metadata": {},
     "output_type": "execute_result"
    }
   ],
   "source": [
    "mad_raw_train_scores"
   ]
  },
  {
   "cell_type": "code",
   "execution_count": 29,
   "metadata": {
    "scrolled": false
   },
   "outputs": [
    {
     "data": {
      "text/plain": [
       "{'DecisionTree': array([ 1,  1,  1, -1, -1, -1,  1, -1, -1,  1, -1,  1,  1, -1, -1,  1,  1,\n",
       "         1, -1,  1, -1, -1, -1,  1, -1, -1, -1,  1, -1, -1, -1, -1, -1,  1,\n",
       "        -1, -1, -1,  1,  1, -1,  1, -1, -1,  1, -1,  1,  1, -1,  1, -1,  1,\n",
       "        -1, -1, -1,  1,  1,  1,  1, -1, -1,  1,  1,  1, -1, -1,  1,  1, -1,\n",
       "         1, -1,  1, -1, -1,  1, -1, -1, -1,  1,  1, -1,  1,  1, -1,  1,  1,\n",
       "        -1,  1, -1,  1, -1,  1,  1, -1,  1, -1,  1, -1,  1,  1,  1,  1, -1,\n",
       "        -1,  1,  1,  1, -1, -1, -1, -1, -1, -1,  1,  1, -1, -1,  1, -1,  1,\n",
       "        -1,  1, -1,  1,  1,  1,  1, -1, -1, -1,  1,  1, -1,  1, -1, -1,  1,\n",
       "        -1,  1,  1, -1, -1, -1, -1, -1, -1, -1, -1, -1, -1,  1]),\n",
       " 'KNeighbors': array([ 1,  1, -1, -1, -1, -1,  1, -1, -1,  1, -1, -1, -1, -1,  1,  1,  1,\n",
       "        -1,  1,  1, -1, -1, -1,  1,  1, -1,  1,  1, -1, -1, -1, -1, -1, -1,\n",
       "        -1,  1,  1,  1, -1, -1, -1, -1, -1,  1, -1,  1, -1, -1, -1, -1,  1,\n",
       "         1, -1, -1,  1,  1,  1, -1, -1,  1,  1, -1, -1, -1,  1, -1, -1, -1,\n",
       "        -1, -1,  1, -1,  1,  1, -1,  1, -1, -1,  1, -1, -1,  1, -1,  1, -1,\n",
       "        -1,  1, -1, -1, -1, -1, -1, -1, -1, -1, -1, -1, -1, -1, -1,  1,  1,\n",
       "         1, -1,  1, -1, -1, -1,  1, -1,  1, -1, -1, -1,  1, -1, -1,  1,  1,\n",
       "        -1,  1, -1, -1,  1, -1,  1, -1, -1, -1, -1,  1,  1,  1, -1, -1, -1,\n",
       "        -1, -1,  1, -1, -1, -1,  1, -1, -1, -1, -1, -1, -1, -1]),\n",
       " 'LogisticRegression': array([ 1,  1,  1,  1,  1,  1,  1, -1,  1, -1, -1,  1, -1, -1,  1,  1,  1,\n",
       "         1,  1,  1, -1, -1, -1,  1, -1,  1,  1,  1, -1, -1, -1, -1,  1, -1,\n",
       "        -1, -1, -1,  1, -1,  1,  1,  1,  1,  1, -1,  1, -1, -1,  1,  1,  1,\n",
       "         1, -1, -1,  1,  1,  1, -1, -1, -1,  1,  1,  1,  1, -1,  1,  1, -1,\n",
       "        -1,  1,  1,  1,  1,  1,  1, -1,  1, -1, -1,  1, -1,  1,  1,  1, -1,\n",
       "        -1,  1, -1,  1, -1, -1, -1,  1,  1,  1,  1,  1, -1,  1, -1,  1, -1,\n",
       "         1, -1,  1, -1, -1, -1,  1, -1,  1, -1, -1, -1, -1, -1, -1,  1,  1,\n",
       "         1,  1,  1, -1,  1, -1,  1, -1, -1,  1,  1, -1, -1,  1, -1, -1, -1,\n",
       "         1, -1,  1, -1,  1, -1, -1, -1,  1, -1, -1, -1, -1,  1]),\n",
       " 'SVClassifier': array([-1, -1,  1, -1, -1, -1,  1, -1, -1, -1, -1, -1, -1, -1, -1, -1,  1,\n",
       "         1, -1, -1, -1, -1, -1,  1, -1, -1, -1, -1, -1, -1, -1, -1, -1, -1,\n",
       "        -1, -1, -1, -1, -1, -1, -1, -1, -1, -1, -1,  1, -1, -1,  1, -1,  1,\n",
       "        -1, -1, -1, -1, -1, -1, -1, -1, -1, -1, -1,  1, -1, -1, -1, -1, -1,\n",
       "        -1, -1, -1, -1, -1,  1, -1, -1, -1, -1, -1, -1, -1, -1, -1, -1, -1,\n",
       "        -1,  1, -1, -1, -1, -1, -1, -1, -1, -1, -1, -1, -1,  1, -1, -1, -1,\n",
       "        -1, -1,  1, -1, -1, -1, -1, -1, -1, -1, -1, -1, -1, -1, -1, -1, -1,\n",
       "        -1, -1, -1, -1, -1, -1, -1, -1, -1, -1, -1, -1, -1, -1, -1, -1, -1,\n",
       "        -1, -1,  1, -1, -1, -1, -1, -1, -1, -1, -1, -1, -1, -1])}"
      ]
     },
     "execution_count": 29,
     "metadata": {},
     "output_type": "execute_result"
    }
   ],
   "source": [
    "mad_raw_y_preds"
   ]
  },
  {
   "cell_type": "code",
   "execution_count": 39,
   "metadata": {},
   "outputs": [
    {
     "data": {
      "text/plain": [
       "['LogisticRegression', 'KNeighbors', 'DecisionTree', 'SVClassifier']"
      ]
     },
     "execution_count": 39,
     "metadata": {},
     "output_type": "execute_result"
    }
   ],
   "source": [
    "names_of_classifiers"
   ]
  },
  {
   "cell_type": "code",
   "execution_count": 72,
   "metadata": {
    "scrolled": false
   },
   "outputs": [
    {
     "name": "stdout",
     "output_type": "stream",
     "text": [
      "{'DecisionTree': '             precision    recall  f1-score   support\\n'\n",
      "                 '\\n'\n",
      "                 '         -1       0.62      0.63      0.63        79\\n'\n",
      "                 '          1       0.58      0.56      0.57        71\\n'\n",
      "                 '\\n'\n",
      "                 'avg / total       0.60      0.60      0.60       150\\n',\n",
      " 'KNeighbors': '             precision    recall  f1-score   support\\n'\n",
      "               '\\n'\n",
      "               '         -1       0.69      0.86      0.76        79\\n'\n",
      "               '          1       0.78      0.56      0.66        71\\n'\n",
      "               '\\n'\n",
      "               'avg / total       0.73      0.72      0.71       150\\n',\n",
      " 'LogisticRegression': '             precision    recall  f1-score   support\\n'\n",
      "                       '\\n'\n",
      "                       '         -1       0.65      0.58      0.61        79\\n'\n",
      "                       '          1       0.58      0.65      0.61        71\\n'\n",
      "                       '\\n'\n",
      "                       'avg / total       0.62      0.61      0.61       150\\n',\n",
      " 'SVClassifier': '             precision    recall  f1-score   support\\n'\n",
      "                 '\\n'\n",
      "                 '         -1       0.58      1.00      0.73        79\\n'\n",
      "                 '          1       1.00      0.20      0.33        71\\n'\n",
      "                 '\\n'\n",
      "                 'avg / total       0.78      0.62      0.54       150\\n'}\n"
     ]
    }
   ],
   "source": [
    "madelon_classification_reports = {}\n",
    "\n",
    "for classifier in names_of_classifiers:\n",
    "    madelon_classification_reports[classifier] = classification_report(mad_y_test, mad_raw_y_preds[classifier])\n",
    "\n",
    "pprint(madelon_classification_reports)"
   ]
  },
  {
   "cell_type": "code",
   "execution_count": 45,
   "metadata": {},
   "outputs": [
    {
     "data": {
      "text/plain": [
       "['LogisticRegression', 'KNeighbors', 'DecisionTree', 'SVClassifier']"
      ]
     },
     "execution_count": 45,
     "metadata": {},
     "output_type": "execute_result"
    }
   ],
   "source": [
    "names_of_classifiers"
   ]
  },
  {
   "cell_type": "code",
   "execution_count": 42,
   "metadata": {
    "collapsed": true
   },
   "outputs": [],
   "source": [
    "def generate_confusion_matrix_madelon (y_actual, y_preds):\n",
    "    conf_matrix = pd.DataFrame(confusion_matrix(y_actual, y_preds), columns=['Predicted -1', 'Predicted 1'], \\\n",
    "                               index=['Actual -1', 'Actual 1'])\n",
    "    return conf_matrix"
   ]
  },
  {
   "cell_type": "code",
   "execution_count": 70,
   "metadata": {
    "scrolled": true
   },
   "outputs": [
    {
     "data": {
      "text/plain": [
       "{'DecisionTree':            Predicted -1  Predicted 1\n",
       " Actual -1            50           29\n",
       " Actual 1             31           40,\n",
       " 'KNeighbors':            Predicted -1  Predicted 1\n",
       " Actual -1            68           11\n",
       " Actual 1             31           40,\n",
       " 'LogisticRegression':            Predicted -1  Predicted 1\n",
       " Actual -1            46           33\n",
       " Actual 1             25           46,\n",
       " 'SVClassifier':            Predicted -1  Predicted 1\n",
       " Actual -1            79            0\n",
       " Actual 1             57           14}"
      ]
     },
     "execution_count": 70,
     "metadata": {},
     "output_type": "execute_result"
    }
   ],
   "source": [
    "madelon_confusion_matrices = {}\n",
    "\n",
    "for classifier in names_of_classifiers:\n",
    "    madelon_confusion_matrices[classifier] = generate_confusion_matrix_madelon(mad_y_test, mad_raw_y_preds[classifier])\n",
    "    \n",
    "madelon_confusion_matrices"
   ]
  },
  {
   "cell_type": "code",
   "execution_count": 68,
   "metadata": {},
   "outputs": [
    {
     "data": {
      "text/plain": [
       "{'DecisionTree': 13.815665146800779,\n",
       " 'KNeighbors': 9.6709160277198709,\n",
       " 'LogisticRegression': 13.355169450800107,\n",
       " 'SVClassifier': 13.124735030066057}"
      ]
     },
     "execution_count": 68,
     "metadata": {},
     "output_type": "execute_result"
    }
   ],
   "source": [
    "madelon_log_loss = {}\n",
    "\n",
    "for classifier in names_of_classifiers:\n",
    "    madelon_log_loss[classifier] = log_loss(mad_y_test, mad_raw_y_preds[classifier])\n",
    "\n",
    "madelon_log_loss"
   ]
  },
  {
   "cell_type": "markdown",
   "metadata": {},
   "source": [
    "#### Cook Dataset"
   ]
  },
  {
   "cell_type": "code",
   "execution_count": 101,
   "metadata": {},
   "outputs": [
    {
     "data": {
      "text/html": [
       "<div>\n",
       "<table border=\"1\" class=\"dataframe\">\n",
       "  <thead>\n",
       "    <tr style=\"text-align: right;\">\n",
       "      <th></th>\n",
       "      <th>_id</th>\n",
       "      <th>feat_000</th>\n",
       "      <th>feat_001</th>\n",
       "      <th>feat_002</th>\n",
       "      <th>feat_003</th>\n",
       "      <th>feat_004</th>\n",
       "      <th>feat_005</th>\n",
       "      <th>feat_006</th>\n",
       "      <th>feat_007</th>\n",
       "      <th>feat_008</th>\n",
       "      <th>...</th>\n",
       "      <th>feat_991</th>\n",
       "      <th>feat_992</th>\n",
       "      <th>feat_993</th>\n",
       "      <th>feat_994</th>\n",
       "      <th>feat_995</th>\n",
       "      <th>feat_996</th>\n",
       "      <th>feat_997</th>\n",
       "      <th>feat_998</th>\n",
       "      <th>feat_999</th>\n",
       "      <th>target</th>\n",
       "    </tr>\n",
       "  </thead>\n",
       "  <tbody>\n",
       "    <tr>\n",
       "      <th>0</th>\n",
       "      <td>116031</td>\n",
       "      <td>-0.063592</td>\n",
       "      <td>-0.935132</td>\n",
       "      <td>-0.788636</td>\n",
       "      <td>2.006542</td>\n",
       "      <td>0.057752</td>\n",
       "      <td>-0.612374</td>\n",
       "      <td>-0.319290</td>\n",
       "      <td>-0.130704</td>\n",
       "      <td>-0.426335</td>\n",
       "      <td>...</td>\n",
       "      <td>0.079754</td>\n",
       "      <td>-0.609663</td>\n",
       "      <td>1.101417</td>\n",
       "      <td>-0.485404</td>\n",
       "      <td>0.085902</td>\n",
       "      <td>-0.780068</td>\n",
       "      <td>0.155906</td>\n",
       "      <td>0.241406</td>\n",
       "      <td>0.538386</td>\n",
       "      <td>1</td>\n",
       "    </tr>\n",
       "    <tr>\n",
       "      <th>1</th>\n",
       "      <td>24415</td>\n",
       "      <td>-0.452243</td>\n",
       "      <td>0.258384</td>\n",
       "      <td>0.620509</td>\n",
       "      <td>0.389080</td>\n",
       "      <td>-0.197159</td>\n",
       "      <td>0.829617</td>\n",
       "      <td>-0.059411</td>\n",
       "      <td>0.910375</td>\n",
       "      <td>-0.323078</td>\n",
       "      <td>...</td>\n",
       "      <td>-0.634202</td>\n",
       "      <td>0.556551</td>\n",
       "      <td>2.037437</td>\n",
       "      <td>-0.482600</td>\n",
       "      <td>-1.418812</td>\n",
       "      <td>0.079200</td>\n",
       "      <td>-0.368648</td>\n",
       "      <td>0.219643</td>\n",
       "      <td>-0.108730</td>\n",
       "      <td>1</td>\n",
       "    </tr>\n",
       "    <tr>\n",
       "      <th>2</th>\n",
       "      <td>115872</td>\n",
       "      <td>1.073645</td>\n",
       "      <td>-1.015950</td>\n",
       "      <td>-0.355322</td>\n",
       "      <td>0.452687</td>\n",
       "      <td>-0.744907</td>\n",
       "      <td>-0.776871</td>\n",
       "      <td>0.385545</td>\n",
       "      <td>0.576864</td>\n",
       "      <td>-0.339835</td>\n",
       "      <td>...</td>\n",
       "      <td>-0.270593</td>\n",
       "      <td>0.250330</td>\n",
       "      <td>0.173127</td>\n",
       "      <td>-0.673090</td>\n",
       "      <td>-0.450532</td>\n",
       "      <td>1.538424</td>\n",
       "      <td>0.276987</td>\n",
       "      <td>-0.257989</td>\n",
       "      <td>-0.351097</td>\n",
       "      <td>1</td>\n",
       "    </tr>\n",
       "    <tr>\n",
       "      <th>3</th>\n",
       "      <td>62456</td>\n",
       "      <td>-0.269215</td>\n",
       "      <td>1.790995</td>\n",
       "      <td>-0.171136</td>\n",
       "      <td>0.258013</td>\n",
       "      <td>-0.215587</td>\n",
       "      <td>-0.516337</td>\n",
       "      <td>-0.228766</td>\n",
       "      <td>-0.446238</td>\n",
       "      <td>0.418390</td>\n",
       "      <td>...</td>\n",
       "      <td>0.773900</td>\n",
       "      <td>-0.321531</td>\n",
       "      <td>0.847676</td>\n",
       "      <td>-1.532333</td>\n",
       "      <td>-0.613422</td>\n",
       "      <td>-1.498944</td>\n",
       "      <td>-1.059311</td>\n",
       "      <td>0.628973</td>\n",
       "      <td>-0.830657</td>\n",
       "      <td>0</td>\n",
       "    </tr>\n",
       "    <tr>\n",
       "      <th>4</th>\n",
       "      <td>173909</td>\n",
       "      <td>0.398804</td>\n",
       "      <td>0.579328</td>\n",
       "      <td>-0.905363</td>\n",
       "      <td>-0.124140</td>\n",
       "      <td>-0.545298</td>\n",
       "      <td>0.409123</td>\n",
       "      <td>-0.179135</td>\n",
       "      <td>0.275275</td>\n",
       "      <td>-0.253539</td>\n",
       "      <td>...</td>\n",
       "      <td>-0.643034</td>\n",
       "      <td>-0.752793</td>\n",
       "      <td>0.176453</td>\n",
       "      <td>0.234722</td>\n",
       "      <td>1.122761</td>\n",
       "      <td>-1.139794</td>\n",
       "      <td>1.231819</td>\n",
       "      <td>-0.783419</td>\n",
       "      <td>1.448478</td>\n",
       "      <td>1</td>\n",
       "    </tr>\n",
       "  </tbody>\n",
       "</table>\n",
       "<p>5 rows × 1002 columns</p>\n",
       "</div>"
      ],
      "text/plain": [
       "      _id  feat_000  feat_001  feat_002  feat_003  feat_004  feat_005  \\\n",
       "0  116031 -0.063592 -0.935132 -0.788636  2.006542  0.057752 -0.612374   \n",
       "1   24415 -0.452243  0.258384  0.620509  0.389080 -0.197159  0.829617   \n",
       "2  115872  1.073645 -1.015950 -0.355322  0.452687 -0.744907 -0.776871   \n",
       "3   62456 -0.269215  1.790995 -0.171136  0.258013 -0.215587 -0.516337   \n",
       "4  173909  0.398804  0.579328 -0.905363 -0.124140 -0.545298  0.409123   \n",
       "\n",
       "   feat_006  feat_007  feat_008   ...    feat_991  feat_992  feat_993  \\\n",
       "0 -0.319290 -0.130704 -0.426335   ...    0.079754 -0.609663  1.101417   \n",
       "1 -0.059411  0.910375 -0.323078   ...   -0.634202  0.556551  2.037437   \n",
       "2  0.385545  0.576864 -0.339835   ...   -0.270593  0.250330  0.173127   \n",
       "3 -0.228766 -0.446238  0.418390   ...    0.773900 -0.321531  0.847676   \n",
       "4 -0.179135  0.275275 -0.253539   ...   -0.643034 -0.752793  0.176453   \n",
       "\n",
       "   feat_994  feat_995  feat_996  feat_997  feat_998  feat_999  target  \n",
       "0 -0.485404  0.085902 -0.780068  0.155906  0.241406  0.538386       1  \n",
       "1 -0.482600 -1.418812  0.079200 -0.368648  0.219643 -0.108730       1  \n",
       "2 -0.673090 -0.450532  1.538424  0.276987 -0.257989 -0.351097       1  \n",
       "3 -1.532333 -0.613422 -1.498944 -1.059311  0.628973 -0.830657       0  \n",
       "4  0.234722  1.122761 -1.139794  1.231819 -0.783419  1.448478       1  \n",
       "\n",
       "[5 rows x 1002 columns]"
      ]
     },
     "execution_count": 101,
     "metadata": {},
     "output_type": "execute_result"
    }
   ],
   "source": [
    "cook_total_sample.head()"
   ]
  },
  {
   "cell_type": "code",
   "execution_count": 6,
   "metadata": {
    "collapsed": true
   },
   "outputs": [],
   "source": [
    "cook_target = cook_total_sample['target']\n",
    "cook_features = cook_total_sample.drop(['_id', 'target'], axis=1)"
   ]
  },
  {
   "cell_type": "code",
   "execution_count": 7,
   "metadata": {},
   "outputs": [
    {
     "data": {
      "text/plain": [
       "(6600,)"
      ]
     },
     "metadata": {},
     "output_type": "display_data"
    },
    {
     "data": {
      "text/plain": [
       "(6600, 1000)"
      ]
     },
     "metadata": {},
     "output_type": "display_data"
    }
   ],
   "source": [
    "display(cook_target.shape)\n",
    "display(cook_features.shape)"
   ]
  },
  {
   "cell_type": "code",
   "execution_count": 8,
   "metadata": {
    "collapsed": true,
    "scrolled": true
   },
   "outputs": [],
   "source": [
    "cook_X_train, cook_X_test, cook_y_train, cook_y_test = train_test_split(cook_features, cook_target)"
   ]
  },
  {
   "cell_type": "code",
   "execution_count": 11,
   "metadata": {
    "collapsed": true,
    "scrolled": true
   },
   "outputs": [],
   "source": [
    "cook_raw_test_scores = {}\n",
    "cook_raw_train_scores = {}\n",
    "cook_raw_y_preds = {}\n",
    "\n",
    "for name, clfr in zip(names_of_classifiers, classifiers):\n",
    "    clfr.fit(cook_X_train, cook_y_train)\n",
    "    \n",
    "    train_score = clfr.score(cook_X_train, cook_y_train)\n",
    "    test_score = clfr.score(cook_X_test, cook_y_test)\n",
    "    y_pred = clfr.predict(cook_X_test)\n",
    "    \n",
    "    cook_raw_train_scores[name] = train_score\n",
    "    cook_raw_test_scores[name] = test_score\n",
    "    cook_raw_y_preds[name] = y_pred\n",
    "    "
   ]
  },
  {
   "cell_type": "code",
   "execution_count": 12,
   "metadata": {},
   "outputs": [
    {
     "data": {
      "text/plain": [
       "{'DecisionTree': 0.61696969696969695,\n",
       " 'KNeighbors': 0.60363636363636364,\n",
       " 'LogisticRegression': 0.55212121212121212,\n",
       " 'SVClassifier': 0.62303030303030305}"
      ]
     },
     "execution_count": 12,
     "metadata": {},
     "output_type": "execute_result"
    }
   ],
   "source": [
    "cook_raw_test_scores"
   ]
  },
  {
   "cell_type": "code",
   "execution_count": 13,
   "metadata": {},
   "outputs": [
    {
     "data": {
      "text/plain": [
       "{'DecisionTree': 1.0,\n",
       " 'KNeighbors': 0.76282828282828286,\n",
       " 'LogisticRegression': 0.73777777777777775,\n",
       " 'SVClassifier': 0.97131313131313135}"
      ]
     },
     "execution_count": 13,
     "metadata": {},
     "output_type": "execute_result"
    }
   ],
   "source": [
    "cook_raw_train_scores"
   ]
  },
  {
   "cell_type": "code",
   "execution_count": 14,
   "metadata": {},
   "outputs": [
    {
     "data": {
      "text/plain": [
       "{'DecisionTree': array([0, 1, 1, ..., 1, 0, 1]),\n",
       " 'KNeighbors': array([1, 0, 0, ..., 1, 0, 0]),\n",
       " 'LogisticRegression': array([0, 1, 0, ..., 1, 0, 1]),\n",
       " 'SVClassifier': array([0, 1, 1, ..., 0, 0, 1])}"
      ]
     },
     "execution_count": 14,
     "metadata": {},
     "output_type": "execute_result"
    }
   ],
   "source": [
    "cook_raw_y_preds"
   ]
  },
  {
   "cell_type": "code",
   "execution_count": 50,
   "metadata": {
    "scrolled": true
   },
   "outputs": [
    {
     "data": {
      "text/plain": [
       "['LogisticRegression', 'KNeighbors', 'DecisionTree', 'SVClassifier']"
      ]
     },
     "execution_count": 50,
     "metadata": {},
     "output_type": "execute_result"
    }
   ],
   "source": [
    "names_of_classifiers"
   ]
  },
  {
   "cell_type": "code",
   "execution_count": 60,
   "metadata": {
    "scrolled": false
   },
   "outputs": [
    {
     "name": "stdout",
     "output_type": "stream",
     "text": [
      "{'DecisionTree': '             precision    recall  f1-score   support\\n'\n",
      "                 '\\n'\n",
      "                 '          0       0.61      0.63      0.62       814\\n'\n",
      "                 '          1       0.63      0.61      0.62       836\\n'\n",
      "                 '\\n'\n",
      "                 'avg / total       0.62      0.62      0.62      1650\\n',\n",
      " 'KNeighbors': '             precision    recall  f1-score   support\\n'\n",
      "               '\\n'\n",
      "               '          0       0.59      0.64      0.61       814\\n'\n",
      "               '          1       0.62      0.57      0.59       836\\n'\n",
      "               '\\n'\n",
      "               'avg / total       0.60      0.60      0.60      1650\\n',\n",
      " 'LogisticRegression': '             precision    recall  f1-score   support\\n'\n",
      "                       '\\n'\n",
      "                       '          0       0.55      0.55      0.55       814\\n'\n",
      "                       '          1       0.56      0.56      0.56       836\\n'\n",
      "                       '\\n'\n",
      "                       'avg / total       0.55      0.55      0.55      1650\\n',\n",
      " 'SVClassifier': '             precision    recall  f1-score   support\\n'\n",
      "                 '\\n'\n",
      "                 '          0       0.62      0.62      0.62       814\\n'\n",
      "                 '          1       0.63      0.62      0.63       836\\n'\n",
      "                 '\\n'\n",
      "                 'avg / total       0.62      0.62      0.62      1650\\n'}\n"
     ]
    }
   ],
   "source": [
    "cook_classification_reports={}\n",
    "\n",
    "for classifier in names_of_classifiers:\n",
    "    cook_classification_reports[classifier] = classification_report(cook_y_test, cook_raw_y_preds[classifier])\n",
    "    \n",
    "pprint(cook_classification_reports)"
   ]
  },
  {
   "cell_type": "code",
   "execution_count": 49,
   "metadata": {
    "collapsed": true
   },
   "outputs": [],
   "source": [
    "def generate_confusion_matrix_cook (y_actual, y_preds):\n",
    "    conf_matrix = pd.DataFrame(confusion_matrix(y_actual, y_preds), columns=['Predicted 0', 'Predicted 1'], \\\n",
    "                               index=['Actual 0', 'Actual 1'])\n",
    "    return conf_matrix"
   ]
  },
  {
   "cell_type": "code",
   "execution_count": 64,
   "metadata": {},
   "outputs": [
    {
     "name": "stdout",
     "output_type": "stream",
     "text": [
      "{'DecisionTree':           Predicted 0  Predicted 1\n",
      "Actual 0          509          305\n",
      "Actual 1          327          509,\n",
      " 'KNeighbors':           Predicted 0  Predicted 1\n",
      "Actual 0          517          297\n",
      "Actual 1          357          479,\n",
      " 'LogisticRegression':           Predicted 0  Predicted 1\n",
      "Actual 0          445          369\n",
      "Actual 1          370          466,\n",
      " 'SVClassifier':           Predicted 0  Predicted 1\n",
      "Actual 0          508          306\n",
      "Actual 1          316          520}\n"
     ]
    }
   ],
   "source": [
    "cook_confusion_matrices = {}\n",
    "\n",
    "for classifier in names_of_classifiers:\n",
    "    cook_confusion_matrices[classifier] = generate_confusion_matrix_cook(cook_y_test, cook_raw_y_preds[classifier])\n",
    "    \n",
    "pprint(cook_confusion_matrices)"
   ]
  },
  {
   "cell_type": "code",
   "execution_count": 65,
   "metadata": {},
   "outputs": [
    {
     "data": {
      "text/plain": [
       "['LogisticRegression', 'KNeighbors', 'DecisionTree', 'SVClassifier']"
      ]
     },
     "execution_count": 65,
     "metadata": {},
     "output_type": "execute_result"
    }
   ],
   "source": [
    "names_of_classifiers"
   ]
  },
  {
   "cell_type": "code",
   "execution_count": 67,
   "metadata": {},
   "outputs": [
    {
     "data": {
      "text/plain": [
       "{'DecisionTree': 13.229545793211978,\n",
       " 'KNeighbors': 13.690058934974759,\n",
       " 'LogisticRegression': 15.469364125630751,\n",
       " 'SVClassifier': 13.020220360271567}"
      ]
     },
     "execution_count": 67,
     "metadata": {},
     "output_type": "execute_result"
    }
   ],
   "source": [
    "cook_log_loss = {}\n",
    "\n",
    "for classifier in names_of_classifiers:\n",
    "    cook_log_loss[classifier] = log_loss(cook_y_test, cook_raw_y_preds[classifier])\n",
    "\n",
    "cook_log_loss"
   ]
  }
 ],
 "metadata": {
  "kernelspec": {
   "display_name": "Python 3",
   "language": "python",
   "name": "python3"
  },
  "language_info": {
   "codemirror_mode": {
    "name": "ipython",
    "version": 3
   },
   "file_extension": ".py",
   "mimetype": "text/x-python",
   "name": "python",
   "nbconvert_exporter": "python",
   "pygments_lexer": "ipython3",
   "version": "3.6.2"
  }
 },
 "nbformat": 4,
 "nbformat_minor": 2
}
